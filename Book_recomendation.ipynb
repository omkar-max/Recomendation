{
 "cells": [
  {
   "cell_type": "code",
   "execution_count": 4,
   "id": "4900e600-80e7-44fd-b45c-c4dc266c9cdb",
   "metadata": {},
   "outputs": [],
   "source": [
    "import numpy as np\n",
    "import pandas as pd\n",
    "import warnings\n",
    "warnings.simplefilter(\"ignore\")"
   ]
  },
  {
   "cell_type": "markdown",
   "id": "fcc46c3c-a879-4386-9559-efcc31534173",
   "metadata": {},
   "source": [
    "### Collabarative based filtering recomendation"
   ]
  },
  {
   "cell_type": "code",
   "execution_count": 7,
   "id": "a0577ead-e40c-4eb7-a004-4661c49942e5",
   "metadata": {},
   "outputs": [],
   "source": [
    "book_df = pd.read_csv(r\"C:\\Users\\omkar\\OneDrive\\Desktop\\Datasets\\Book_Recomendation\\Books.csv\")\n",
    "ratings_df = pd.read_csv(r\"C:\\Users\\omkar\\OneDrive\\Desktop\\Datasets\\Book_Recomendation\\Ratings.csv\")\n",
    "user_df = pd.read_csv(r\"C:\\Users\\omkar\\OneDrive\\Desktop\\Datasets\\Book_Recomendation\\Users.csv\")"
   ]
  },
  {
   "cell_type": "code",
   "execution_count": 8,
   "id": "2e73701b-1d08-4d3c-9788-396f2e7deee6",
   "metadata": {},
   "outputs": [
    {
     "data": {
      "text/html": [
       "<div>\n",
       "<style scoped>\n",
       "    .dataframe tbody tr th:only-of-type {\n",
       "        vertical-align: middle;\n",
       "    }\n",
       "\n",
       "    .dataframe tbody tr th {\n",
       "        vertical-align: top;\n",
       "    }\n",
       "\n",
       "    .dataframe thead th {\n",
       "        text-align: right;\n",
       "    }\n",
       "</style>\n",
       "<table border=\"1\" class=\"dataframe\">\n",
       "  <thead>\n",
       "    <tr style=\"text-align: right;\">\n",
       "      <th></th>\n",
       "      <th>ISBN</th>\n",
       "      <th>Book-Title</th>\n",
       "      <th>Book-Author</th>\n",
       "      <th>Year-Of-Publication</th>\n",
       "      <th>Publisher</th>\n",
       "      <th>Image-URL-S</th>\n",
       "      <th>Image-URL-M</th>\n",
       "      <th>Image-URL-L</th>\n",
       "    </tr>\n",
       "  </thead>\n",
       "  <tbody>\n",
       "    <tr>\n",
       "      <th>0</th>\n",
       "      <td>0195153448</td>\n",
       "      <td>Classical Mythology</td>\n",
       "      <td>Mark P. O. Morford</td>\n",
       "      <td>2002</td>\n",
       "      <td>Oxford University Press</td>\n",
       "      <td>http://images.amazon.com/images/P/0195153448.0...</td>\n",
       "      <td>http://images.amazon.com/images/P/0195153448.0...</td>\n",
       "      <td>http://images.amazon.com/images/P/0195153448.0...</td>\n",
       "    </tr>\n",
       "    <tr>\n",
       "      <th>1</th>\n",
       "      <td>0002005018</td>\n",
       "      <td>Clara Callan</td>\n",
       "      <td>Richard Bruce Wright</td>\n",
       "      <td>2001</td>\n",
       "      <td>HarperFlamingo Canada</td>\n",
       "      <td>http://images.amazon.com/images/P/0002005018.0...</td>\n",
       "      <td>http://images.amazon.com/images/P/0002005018.0...</td>\n",
       "      <td>http://images.amazon.com/images/P/0002005018.0...</td>\n",
       "    </tr>\n",
       "    <tr>\n",
       "      <th>2</th>\n",
       "      <td>0060973129</td>\n",
       "      <td>Decision in Normandy</td>\n",
       "      <td>Carlo D'Este</td>\n",
       "      <td>1991</td>\n",
       "      <td>HarperPerennial</td>\n",
       "      <td>http://images.amazon.com/images/P/0060973129.0...</td>\n",
       "      <td>http://images.amazon.com/images/P/0060973129.0...</td>\n",
       "      <td>http://images.amazon.com/images/P/0060973129.0...</td>\n",
       "    </tr>\n",
       "    <tr>\n",
       "      <th>3</th>\n",
       "      <td>0374157065</td>\n",
       "      <td>Flu: The Story of the Great Influenza Pandemic...</td>\n",
       "      <td>Gina Bari Kolata</td>\n",
       "      <td>1999</td>\n",
       "      <td>Farrar Straus Giroux</td>\n",
       "      <td>http://images.amazon.com/images/P/0374157065.0...</td>\n",
       "      <td>http://images.amazon.com/images/P/0374157065.0...</td>\n",
       "      <td>http://images.amazon.com/images/P/0374157065.0...</td>\n",
       "    </tr>\n",
       "    <tr>\n",
       "      <th>4</th>\n",
       "      <td>0393045218</td>\n",
       "      <td>The Mummies of Urumchi</td>\n",
       "      <td>E. J. W. Barber</td>\n",
       "      <td>1999</td>\n",
       "      <td>W. W. Norton &amp;amp; Company</td>\n",
       "      <td>http://images.amazon.com/images/P/0393045218.0...</td>\n",
       "      <td>http://images.amazon.com/images/P/0393045218.0...</td>\n",
       "      <td>http://images.amazon.com/images/P/0393045218.0...</td>\n",
       "    </tr>\n",
       "  </tbody>\n",
       "</table>\n",
       "</div>"
      ],
      "text/plain": [
       "         ISBN                                         Book-Title  \\\n",
       "0  0195153448                                Classical Mythology   \n",
       "1  0002005018                                       Clara Callan   \n",
       "2  0060973129                               Decision in Normandy   \n",
       "3  0374157065  Flu: The Story of the Great Influenza Pandemic...   \n",
       "4  0393045218                             The Mummies of Urumchi   \n",
       "\n",
       "            Book-Author Year-Of-Publication                   Publisher  \\\n",
       "0    Mark P. O. Morford                2002     Oxford University Press   \n",
       "1  Richard Bruce Wright                2001       HarperFlamingo Canada   \n",
       "2          Carlo D'Este                1991             HarperPerennial   \n",
       "3      Gina Bari Kolata                1999        Farrar Straus Giroux   \n",
       "4       E. J. W. Barber                1999  W. W. Norton &amp; Company   \n",
       "\n",
       "                                         Image-URL-S  \\\n",
       "0  http://images.amazon.com/images/P/0195153448.0...   \n",
       "1  http://images.amazon.com/images/P/0002005018.0...   \n",
       "2  http://images.amazon.com/images/P/0060973129.0...   \n",
       "3  http://images.amazon.com/images/P/0374157065.0...   \n",
       "4  http://images.amazon.com/images/P/0393045218.0...   \n",
       "\n",
       "                                         Image-URL-M  \\\n",
       "0  http://images.amazon.com/images/P/0195153448.0...   \n",
       "1  http://images.amazon.com/images/P/0002005018.0...   \n",
       "2  http://images.amazon.com/images/P/0060973129.0...   \n",
       "3  http://images.amazon.com/images/P/0374157065.0...   \n",
       "4  http://images.amazon.com/images/P/0393045218.0...   \n",
       "\n",
       "                                         Image-URL-L  \n",
       "0  http://images.amazon.com/images/P/0195153448.0...  \n",
       "1  http://images.amazon.com/images/P/0002005018.0...  \n",
       "2  http://images.amazon.com/images/P/0060973129.0...  \n",
       "3  http://images.amazon.com/images/P/0374157065.0...  \n",
       "4  http://images.amazon.com/images/P/0393045218.0...  "
      ]
     },
     "execution_count": 8,
     "metadata": {},
     "output_type": "execute_result"
    }
   ],
   "source": [
    "book_df.head()"
   ]
  },
  {
   "cell_type": "code",
   "execution_count": 11,
   "id": "45681458-9927-46ff-919a-14c0c42634de",
   "metadata": {},
   "outputs": [
    {
     "name": "stdout",
     "output_type": "stream",
     "text": [
      "(271360, 8)\n",
      "(1149780, 3)\n",
      "(278858, 3)\n"
     ]
    }
   ],
   "source": [
    "print(book_df.shape)\n",
    "print(ratings_df.shape)\n",
    "print(user_df.shape)"
   ]
  },
  {
   "cell_type": "code",
   "execution_count": 12,
   "id": "dd5d5cca-ead9-484c-a61c-7610f57a9d5d",
   "metadata": {},
   "outputs": [
    {
     "data": {
      "text/html": [
       "<div>\n",
       "<style scoped>\n",
       "    .dataframe tbody tr th:only-of-type {\n",
       "        vertical-align: middle;\n",
       "    }\n",
       "\n",
       "    .dataframe tbody tr th {\n",
       "        vertical-align: top;\n",
       "    }\n",
       "\n",
       "    .dataframe thead th {\n",
       "        text-align: right;\n",
       "    }\n",
       "</style>\n",
       "<table border=\"1\" class=\"dataframe\">\n",
       "  <thead>\n",
       "    <tr style=\"text-align: right;\">\n",
       "      <th></th>\n",
       "      <th>User-ID</th>\n",
       "      <th>ISBN</th>\n",
       "      <th>Book-Rating</th>\n",
       "    </tr>\n",
       "  </thead>\n",
       "  <tbody>\n",
       "    <tr>\n",
       "      <th>0</th>\n",
       "      <td>276725</td>\n",
       "      <td>034545104X</td>\n",
       "      <td>0</td>\n",
       "    </tr>\n",
       "    <tr>\n",
       "      <th>1</th>\n",
       "      <td>276726</td>\n",
       "      <td>0155061224</td>\n",
       "      <td>5</td>\n",
       "    </tr>\n",
       "    <tr>\n",
       "      <th>2</th>\n",
       "      <td>276727</td>\n",
       "      <td>0446520802</td>\n",
       "      <td>0</td>\n",
       "    </tr>\n",
       "    <tr>\n",
       "      <th>3</th>\n",
       "      <td>276729</td>\n",
       "      <td>052165615X</td>\n",
       "      <td>3</td>\n",
       "    </tr>\n",
       "    <tr>\n",
       "      <th>4</th>\n",
       "      <td>276729</td>\n",
       "      <td>0521795028</td>\n",
       "      <td>6</td>\n",
       "    </tr>\n",
       "  </tbody>\n",
       "</table>\n",
       "</div>"
      ],
      "text/plain": [
       "   User-ID        ISBN  Book-Rating\n",
       "0   276725  034545104X            0\n",
       "1   276726  0155061224            5\n",
       "2   276727  0446520802            0\n",
       "3   276729  052165615X            3\n",
       "4   276729  0521795028            6"
      ]
     },
     "execution_count": 12,
     "metadata": {},
     "output_type": "execute_result"
    }
   ],
   "source": [
    "ratings_df.head()"
   ]
  },
  {
   "cell_type": "code",
   "execution_count": 13,
   "id": "08cc0d31-73f7-4b03-b984-a5d7117a57c8",
   "metadata": {},
   "outputs": [
    {
     "data": {
      "text/html": [
       "<div>\n",
       "<style scoped>\n",
       "    .dataframe tbody tr th:only-of-type {\n",
       "        vertical-align: middle;\n",
       "    }\n",
       "\n",
       "    .dataframe tbody tr th {\n",
       "        vertical-align: top;\n",
       "    }\n",
       "\n",
       "    .dataframe thead th {\n",
       "        text-align: right;\n",
       "    }\n",
       "</style>\n",
       "<table border=\"1\" class=\"dataframe\">\n",
       "  <thead>\n",
       "    <tr style=\"text-align: right;\">\n",
       "      <th></th>\n",
       "      <th>User-ID</th>\n",
       "      <th>Location</th>\n",
       "      <th>Age</th>\n",
       "    </tr>\n",
       "  </thead>\n",
       "  <tbody>\n",
       "    <tr>\n",
       "      <th>0</th>\n",
       "      <td>1</td>\n",
       "      <td>nyc, new york, usa</td>\n",
       "      <td>NaN</td>\n",
       "    </tr>\n",
       "    <tr>\n",
       "      <th>1</th>\n",
       "      <td>2</td>\n",
       "      <td>stockton, california, usa</td>\n",
       "      <td>18.0</td>\n",
       "    </tr>\n",
       "    <tr>\n",
       "      <th>2</th>\n",
       "      <td>3</td>\n",
       "      <td>moscow, yukon territory, russia</td>\n",
       "      <td>NaN</td>\n",
       "    </tr>\n",
       "    <tr>\n",
       "      <th>3</th>\n",
       "      <td>4</td>\n",
       "      <td>porto, v.n.gaia, portugal</td>\n",
       "      <td>17.0</td>\n",
       "    </tr>\n",
       "    <tr>\n",
       "      <th>4</th>\n",
       "      <td>5</td>\n",
       "      <td>farnborough, hants, united kingdom</td>\n",
       "      <td>NaN</td>\n",
       "    </tr>\n",
       "  </tbody>\n",
       "</table>\n",
       "</div>"
      ],
      "text/plain": [
       "   User-ID                            Location   Age\n",
       "0        1                  nyc, new york, usa   NaN\n",
       "1        2           stockton, california, usa  18.0\n",
       "2        3     moscow, yukon territory, russia   NaN\n",
       "3        4           porto, v.n.gaia, portugal  17.0\n",
       "4        5  farnborough, hants, united kingdom   NaN"
      ]
     },
     "execution_count": 13,
     "metadata": {},
     "output_type": "execute_result"
    }
   ],
   "source": [
    "user_df.head()"
   ]
  },
  {
   "cell_type": "code",
   "execution_count": 14,
   "id": "3917b371-223b-43a9-8ec4-bd7bae1a958f",
   "metadata": {},
   "outputs": [],
   "source": [
    "# Checking for the null values"
   ]
  },
  {
   "cell_type": "code",
   "execution_count": 15,
   "id": "47e1489a-2f08-4d9d-969f-f2781c89db5e",
   "metadata": {},
   "outputs": [
    {
     "data": {
      "text/plain": [
       "ISBN                   0\n",
       "Book-Title             0\n",
       "Book-Author            2\n",
       "Year-Of-Publication    0\n",
       "Publisher              2\n",
       "Image-URL-S            0\n",
       "Image-URL-M            0\n",
       "Image-URL-L            3\n",
       "dtype: int64"
      ]
     },
     "execution_count": 15,
     "metadata": {},
     "output_type": "execute_result"
    }
   ],
   "source": [
    "book_df.isnull().sum()"
   ]
  },
  {
   "cell_type": "code",
   "execution_count": 16,
   "id": "7cde9baa-feb4-43d6-b8ae-76ce45a10fd7",
   "metadata": {},
   "outputs": [],
   "source": [
    "# Since there are small number of nul values we can ignore them they won't let you harm our recomendation"
   ]
  },
  {
   "cell_type": "code",
   "execution_count": 17,
   "id": "5b4c6081-0252-4303-9046-a80655eeea00",
   "metadata": {},
   "outputs": [
    {
     "data": {
      "text/plain": [
       "User-ID        0\n",
       "ISBN           0\n",
       "Book-Rating    0\n",
       "dtype: int64"
      ]
     },
     "execution_count": 17,
     "metadata": {},
     "output_type": "execute_result"
    }
   ],
   "source": [
    "ratings_df.isnull().sum()"
   ]
  },
  {
   "cell_type": "code",
   "execution_count": 18,
   "id": "ceeafd11-9176-4af3-9bb8-ed0fbabb1201",
   "metadata": {},
   "outputs": [],
   "source": [
    "# There are null values in the ratings data frame"
   ]
  },
  {
   "cell_type": "code",
   "execution_count": 19,
   "id": "4c2a38b9-1543-4c59-9651-f389e744a661",
   "metadata": {},
   "outputs": [
    {
     "data": {
      "text/plain": [
       "User-ID          0\n",
       "Location         0\n",
       "Age         110762\n",
       "dtype: int64"
      ]
     },
     "execution_count": 19,
     "metadata": {},
     "output_type": "execute_result"
    }
   ],
   "source": [
    "user_df.isnull().sum()"
   ]
  },
  {
   "cell_type": "code",
   "execution_count": 20,
   "id": "90005011-bf1b-4a57-b86d-1fa67a848d23",
   "metadata": {},
   "outputs": [],
   "source": [
    "# age column has more number of null values we are not considering the that column.\n"
   ]
  },
  {
   "cell_type": "code",
   "execution_count": 23,
   "id": "2055022c-d453-4f64-857a-ed5c5d0b681e",
   "metadata": {},
   "outputs": [
    {
     "name": "stdout",
     "output_type": "stream",
     "text": [
      "0\n",
      "0\n",
      "0\n"
     ]
    }
   ],
   "source": [
    "print(book_df.duplicated().sum())\n",
    "print(ratings_df.duplicated().sum())\n",
    "print(user_df.duplicated().sum())"
   ]
  },
  {
   "cell_type": "code",
   "execution_count": 26,
   "id": "29bc960e-ad78-4f68-a02b-c9239681d073",
   "metadata": {},
   "outputs": [
    {
     "data": {
      "text/plain": [
       "(271360, 8)"
      ]
     },
     "execution_count": 26,
     "metadata": {},
     "output_type": "execute_result"
    }
   ],
   "source": [
    "book_df.shape"
   ]
  },
  {
   "cell_type": "code",
   "execution_count": 25,
   "id": "43bade6b-afe3-4bea-be8e-2fac3194ea43",
   "metadata": {},
   "outputs": [
    {
     "data": {
      "text/plain": [
       "242135"
      ]
     },
     "execution_count": 25,
     "metadata": {},
     "output_type": "execute_result"
    }
   ],
   "source": [
    "book_df['Book-Title'].nunique()"
   ]
  },
  {
   "cell_type": "code",
   "execution_count": 27,
   "id": "e98df150-c871-4aaf-881a-7179fa29d77f",
   "metadata": {},
   "outputs": [],
   "source": [
    "# We are going to drop the duplicated books"
   ]
  },
  {
   "cell_type": "code",
   "execution_count": 68,
   "id": "5763e75b-f9e3-4662-9220-67184397c3f5",
   "metadata": {},
   "outputs": [],
   "source": [
    "book_rating_df = pd.merge(book_df,ratings_df,on='ISBN')"
   ]
  },
  {
   "cell_type": "code",
   "execution_count": 69,
   "id": "4b93df88-1835-4083-bc83-5830ac9fe5d7",
   "metadata": {},
   "outputs": [
    {
     "data": {
      "text/html": [
       "<div>\n",
       "<style scoped>\n",
       "    .dataframe tbody tr th:only-of-type {\n",
       "        vertical-align: middle;\n",
       "    }\n",
       "\n",
       "    .dataframe tbody tr th {\n",
       "        vertical-align: top;\n",
       "    }\n",
       "\n",
       "    .dataframe thead th {\n",
       "        text-align: right;\n",
       "    }\n",
       "</style>\n",
       "<table border=\"1\" class=\"dataframe\">\n",
       "  <thead>\n",
       "    <tr style=\"text-align: right;\">\n",
       "      <th></th>\n",
       "      <th>ISBN</th>\n",
       "      <th>Book-Title</th>\n",
       "      <th>Book-Author</th>\n",
       "      <th>Year-Of-Publication</th>\n",
       "      <th>Publisher</th>\n",
       "      <th>Image-URL-S</th>\n",
       "      <th>Image-URL-M</th>\n",
       "      <th>Image-URL-L</th>\n",
       "      <th>User-ID</th>\n",
       "      <th>Book-Rating</th>\n",
       "    </tr>\n",
       "  </thead>\n",
       "  <tbody>\n",
       "    <tr>\n",
       "      <th>0</th>\n",
       "      <td>0195153448</td>\n",
       "      <td>Classical Mythology</td>\n",
       "      <td>Mark P. O. Morford</td>\n",
       "      <td>2002</td>\n",
       "      <td>Oxford University Press</td>\n",
       "      <td>http://images.amazon.com/images/P/0195153448.0...</td>\n",
       "      <td>http://images.amazon.com/images/P/0195153448.0...</td>\n",
       "      <td>http://images.amazon.com/images/P/0195153448.0...</td>\n",
       "      <td>2</td>\n",
       "      <td>0</td>\n",
       "    </tr>\n",
       "    <tr>\n",
       "      <th>1</th>\n",
       "      <td>0002005018</td>\n",
       "      <td>Clara Callan</td>\n",
       "      <td>Richard Bruce Wright</td>\n",
       "      <td>2001</td>\n",
       "      <td>HarperFlamingo Canada</td>\n",
       "      <td>http://images.amazon.com/images/P/0002005018.0...</td>\n",
       "      <td>http://images.amazon.com/images/P/0002005018.0...</td>\n",
       "      <td>http://images.amazon.com/images/P/0002005018.0...</td>\n",
       "      <td>8</td>\n",
       "      <td>5</td>\n",
       "    </tr>\n",
       "    <tr>\n",
       "      <th>2</th>\n",
       "      <td>0002005018</td>\n",
       "      <td>Clara Callan</td>\n",
       "      <td>Richard Bruce Wright</td>\n",
       "      <td>2001</td>\n",
       "      <td>HarperFlamingo Canada</td>\n",
       "      <td>http://images.amazon.com/images/P/0002005018.0...</td>\n",
       "      <td>http://images.amazon.com/images/P/0002005018.0...</td>\n",
       "      <td>http://images.amazon.com/images/P/0002005018.0...</td>\n",
       "      <td>11400</td>\n",
       "      <td>0</td>\n",
       "    </tr>\n",
       "    <tr>\n",
       "      <th>3</th>\n",
       "      <td>0002005018</td>\n",
       "      <td>Clara Callan</td>\n",
       "      <td>Richard Bruce Wright</td>\n",
       "      <td>2001</td>\n",
       "      <td>HarperFlamingo Canada</td>\n",
       "      <td>http://images.amazon.com/images/P/0002005018.0...</td>\n",
       "      <td>http://images.amazon.com/images/P/0002005018.0...</td>\n",
       "      <td>http://images.amazon.com/images/P/0002005018.0...</td>\n",
       "      <td>11676</td>\n",
       "      <td>8</td>\n",
       "    </tr>\n",
       "    <tr>\n",
       "      <th>4</th>\n",
       "      <td>0002005018</td>\n",
       "      <td>Clara Callan</td>\n",
       "      <td>Richard Bruce Wright</td>\n",
       "      <td>2001</td>\n",
       "      <td>HarperFlamingo Canada</td>\n",
       "      <td>http://images.amazon.com/images/P/0002005018.0...</td>\n",
       "      <td>http://images.amazon.com/images/P/0002005018.0...</td>\n",
       "      <td>http://images.amazon.com/images/P/0002005018.0...</td>\n",
       "      <td>41385</td>\n",
       "      <td>0</td>\n",
       "    </tr>\n",
       "  </tbody>\n",
       "</table>\n",
       "</div>"
      ],
      "text/plain": [
       "         ISBN           Book-Title           Book-Author Year-Of-Publication  \\\n",
       "0  0195153448  Classical Mythology    Mark P. O. Morford                2002   \n",
       "1  0002005018         Clara Callan  Richard Bruce Wright                2001   \n",
       "2  0002005018         Clara Callan  Richard Bruce Wright                2001   \n",
       "3  0002005018         Clara Callan  Richard Bruce Wright                2001   \n",
       "4  0002005018         Clara Callan  Richard Bruce Wright                2001   \n",
       "\n",
       "                 Publisher                                        Image-URL-S  \\\n",
       "0  Oxford University Press  http://images.amazon.com/images/P/0195153448.0...   \n",
       "1    HarperFlamingo Canada  http://images.amazon.com/images/P/0002005018.0...   \n",
       "2    HarperFlamingo Canada  http://images.amazon.com/images/P/0002005018.0...   \n",
       "3    HarperFlamingo Canada  http://images.amazon.com/images/P/0002005018.0...   \n",
       "4    HarperFlamingo Canada  http://images.amazon.com/images/P/0002005018.0...   \n",
       "\n",
       "                                         Image-URL-M  \\\n",
       "0  http://images.amazon.com/images/P/0195153448.0...   \n",
       "1  http://images.amazon.com/images/P/0002005018.0...   \n",
       "2  http://images.amazon.com/images/P/0002005018.0...   \n",
       "3  http://images.amazon.com/images/P/0002005018.0...   \n",
       "4  http://images.amazon.com/images/P/0002005018.0...   \n",
       "\n",
       "                                         Image-URL-L  User-ID  Book-Rating  \n",
       "0  http://images.amazon.com/images/P/0195153448.0...        2            0  \n",
       "1  http://images.amazon.com/images/P/0002005018.0...        8            5  \n",
       "2  http://images.amazon.com/images/P/0002005018.0...    11400            0  \n",
       "3  http://images.amazon.com/images/P/0002005018.0...    11676            8  \n",
       "4  http://images.amazon.com/images/P/0002005018.0...    41385            0  "
      ]
     },
     "execution_count": 69,
     "metadata": {},
     "output_type": "execute_result"
    }
   ],
   "source": [
    "book_rating_df.head()"
   ]
  },
  {
   "cell_type": "code",
   "execution_count": null,
   "id": "d08e0746-d65d-46cb-b578-ddf1a48bbf36",
   "metadata": {},
   "outputs": [],
   "source": []
  },
  {
   "cell_type": "code",
   "execution_count": 70,
   "id": "d3a476b7-e1c8-4c24-a651-c0e9ebb4f84d",
   "metadata": {},
   "outputs": [],
   "source": [
    "book_rating_df = book_rating_df.drop_duplicates('Book-Title')"
   ]
  },
  {
   "cell_type": "code",
   "execution_count": 71,
   "id": "c4695927-546d-45c1-98fb-a6540e65087b",
   "metadata": {},
   "outputs": [
    {
     "data": {
      "text/plain": [
       "(241071, 10)"
      ]
     },
     "execution_count": 71,
     "metadata": {},
     "output_type": "execute_result"
    }
   ],
   "source": [
    "book_rating_df.shape"
   ]
  },
  {
   "cell_type": "code",
   "execution_count": 126,
   "id": "304cfcc2-6faf-4f56-911d-f027fd7ed4ac",
   "metadata": {},
   "outputs": [],
   "source": [
    "# Finding the number fo user who given the rating to the books greater than 150"
   ]
  },
  {
   "cell_type": "code",
   "execution_count": 185,
   "id": "fbec577b-685a-45e3-9f74-eb27dbc84b55",
   "metadata": {},
   "outputs": [],
   "source": [
    "most_popular_users = book_rating_df.groupby('User-ID')['Book-Rating'].count().reset_index().sort_values(by='Book-Rating',ascending=False)"
   ]
  },
  {
   "cell_type": "code",
   "execution_count": 214,
   "id": "27204824-1e11-431d-af30-cddfb12568f0",
   "metadata": {},
   "outputs": [],
   "source": [
    "# We can filter like this also Filter users who have rated more books than a certain percentile (e.g., top 90%).\n",
    "# threshold = book_rating_df.groupby('User-ID')['Book-Rating'].count().quantile(0.90)  \n",
    "# active_users = book_rating_df.groupby('User-ID').count()['Book-Rating'] > threshold  \n",
    "# active_users_index = active_users[active_users].index  "
   ]
  },
  {
   "cell_type": "code",
   "execution_count": 199,
   "id": "44fc42b4-05fb-4eac-8102-43e6e10d5d1a",
   "metadata": {},
   "outputs": [],
   "source": [
    "most_popular_users = most_popular_users[most_popular_users['Book-Rating'] > 30]\n",
    "most_popular_users_index = most_popular_users.index"
   ]
  },
  {
   "cell_type": "code",
   "execution_count": 200,
   "id": "f68015c4-bbe7-4877-ab3d-ddcdf42746a0",
   "metadata": {},
   "outputs": [
    {
     "data": {
      "text/html": [
       "<div>\n",
       "<style scoped>\n",
       "    .dataframe tbody tr th:only-of-type {\n",
       "        vertical-align: middle;\n",
       "    }\n",
       "\n",
       "    .dataframe tbody tr th {\n",
       "        vertical-align: top;\n",
       "    }\n",
       "\n",
       "    .dataframe thead th {\n",
       "        text-align: right;\n",
       "    }\n",
       "</style>\n",
       "<table border=\"1\" class=\"dataframe\">\n",
       "  <thead>\n",
       "    <tr style=\"text-align: right;\">\n",
       "      <th></th>\n",
       "      <th>User-ID</th>\n",
       "      <th>Book-Rating</th>\n",
       "    </tr>\n",
       "  </thead>\n",
       "  <tbody>\n",
       "    <tr>\n",
       "      <th>2661</th>\n",
       "      <td>11676</td>\n",
       "      <td>5877</td>\n",
       "    </tr>\n",
       "    <tr>\n",
       "      <th>32128</th>\n",
       "      <td>278418</td>\n",
       "      <td>3518</td>\n",
       "    </tr>\n",
       "    <tr>\n",
       "      <th>15217</th>\n",
       "      <td>98391</td>\n",
       "      <td>2613</td>\n",
       "    </tr>\n",
       "    <tr>\n",
       "      <th>25069</th>\n",
       "      <td>198711</td>\n",
       "      <td>2045</td>\n",
       "    </tr>\n",
       "    <tr>\n",
       "      <th>6888</th>\n",
       "      <td>35859</td>\n",
       "      <td>1982</td>\n",
       "    </tr>\n",
       "    <tr>\n",
       "      <th>...</th>\n",
       "      <td>...</td>\n",
       "      <td>...</td>\n",
       "    </tr>\n",
       "    <tr>\n",
       "      <th>31070</th>\n",
       "      <td>269841</td>\n",
       "      <td>31</td>\n",
       "    </tr>\n",
       "    <tr>\n",
       "      <th>27752</th>\n",
       "      <td>230030</td>\n",
       "      <td>31</td>\n",
       "    </tr>\n",
       "    <tr>\n",
       "      <th>20431</th>\n",
       "      <td>148798</td>\n",
       "      <td>31</td>\n",
       "    </tr>\n",
       "    <tr>\n",
       "      <th>6558</th>\n",
       "      <td>33826</td>\n",
       "      <td>31</td>\n",
       "    </tr>\n",
       "    <tr>\n",
       "      <th>12946</th>\n",
       "      <td>79961</td>\n",
       "      <td>31</td>\n",
       "    </tr>\n",
       "  </tbody>\n",
       "</table>\n",
       "<p>1252 rows × 2 columns</p>\n",
       "</div>"
      ],
      "text/plain": [
       "       User-ID  Book-Rating\n",
       "2661     11676         5877\n",
       "32128   278418         3518\n",
       "15217    98391         2613\n",
       "25069   198711         2045\n",
       "6888     35859         1982\n",
       "...        ...          ...\n",
       "31070   269841           31\n",
       "27752   230030           31\n",
       "20431   148798           31\n",
       "6558     33826           31\n",
       "12946    79961           31\n",
       "\n",
       "[1252 rows x 2 columns]"
      ]
     },
     "execution_count": 200,
     "metadata": {},
     "output_type": "execute_result"
    }
   ],
   "source": [
    "most_popular_users"
   ]
  },
  {
   "cell_type": "code",
   "execution_count": 201,
   "id": "9862b656-6007-4892-88cf-64737644fab5",
   "metadata": {},
   "outputs": [
    {
     "data": {
      "text/plain": [
       "(1252, 2)"
      ]
     },
     "execution_count": 201,
     "metadata": {},
     "output_type": "execute_result"
    }
   ],
   "source": [
    "most_popular_users.shape"
   ]
  },
  {
   "cell_type": "code",
   "execution_count": 120,
   "id": "440c0a03-4673-487c-a50d-491e169266c8",
   "metadata": {},
   "outputs": [],
   "source": [
    "# Only 1252 users are consired as well read users with 30 ratings given by book \n"
   ]
  },
  {
   "cell_type": "code",
   "execution_count": 203,
   "id": "aad81e61-75de-41bc-9c53-ab1ce6fbe95a",
   "metadata": {},
   "outputs": [
    {
     "data": {
      "text/html": [
       "<div>\n",
       "<style scoped>\n",
       "    .dataframe tbody tr th:only-of-type {\n",
       "        vertical-align: middle;\n",
       "    }\n",
       "\n",
       "    .dataframe tbody tr th {\n",
       "        vertical-align: top;\n",
       "    }\n",
       "\n",
       "    .dataframe thead th {\n",
       "        text-align: right;\n",
       "    }\n",
       "</style>\n",
       "<table border=\"1\" class=\"dataframe\">\n",
       "  <thead>\n",
       "    <tr style=\"text-align: right;\">\n",
       "      <th></th>\n",
       "      <th>ISBN</th>\n",
       "      <th>Book-Title</th>\n",
       "      <th>Book-Author</th>\n",
       "      <th>Year-Of-Publication</th>\n",
       "      <th>Publisher</th>\n",
       "      <th>Image-URL-S</th>\n",
       "      <th>Image-URL-M</th>\n",
       "      <th>Image-URL-L</th>\n",
       "      <th>User-ID</th>\n",
       "      <th>Book-Rating</th>\n",
       "    </tr>\n",
       "  </thead>\n",
       "  <tbody>\n",
       "    <tr>\n",
       "      <th>6755</th>\n",
       "      <td>0312970242</td>\n",
       "      <td>The Angel Is Near</td>\n",
       "      <td>Deepak Chopra</td>\n",
       "      <td>2000</td>\n",
       "      <td>St. Martin's Press</td>\n",
       "      <td>http://images.amazon.com/images/P/0312970242.0...</td>\n",
       "      <td>http://images.amazon.com/images/P/0312970242.0...</td>\n",
       "      <td>http://images.amazon.com/images/P/0312970242.0...</td>\n",
       "      <td>69</td>\n",
       "      <td>0.0</td>\n",
       "    </tr>\n",
       "    <tr>\n",
       "      <th>6792</th>\n",
       "      <td>0060938412</td>\n",
       "      <td>The Accidental Virgin</td>\n",
       "      <td>Valerie Frankel</td>\n",
       "      <td>2003</td>\n",
       "      <td>Avon Trade</td>\n",
       "      <td>http://images.amazon.com/images/P/0060938412.0...</td>\n",
       "      <td>http://images.amazon.com/images/P/0060938412.0...</td>\n",
       "      <td>http://images.amazon.com/images/P/0060938412.0...</td>\n",
       "      <td>73</td>\n",
       "      <td>5.0</td>\n",
       "    </tr>\n",
       "    <tr>\n",
       "      <th>12874</th>\n",
       "      <td>0785263292</td>\n",
       "      <td>If Singleness Is a Gift, What's the Return Pol...</td>\n",
       "      <td>Holly Virden</td>\n",
       "      <td>2003</td>\n",
       "      <td>Nelson Books</td>\n",
       "      <td>http://images.amazon.com/images/P/0785263292.0...</td>\n",
       "      <td>http://images.amazon.com/images/P/0785263292.0...</td>\n",
       "      <td>http://images.amazon.com/images/P/0785263292.0...</td>\n",
       "      <td>237</td>\n",
       "      <td>0.0</td>\n",
       "    </tr>\n",
       "    <tr>\n",
       "      <th>12876</th>\n",
       "      <td>0830714014</td>\n",
       "      <td>Always Daddy's Girl: Understanding Your Father...</td>\n",
       "      <td>H. Norman Wright</td>\n",
       "      <td>1989</td>\n",
       "      <td>Regal Books</td>\n",
       "      <td>http://images.amazon.com/images/P/0830714014.0...</td>\n",
       "      <td>http://images.amazon.com/images/P/0830714014.0...</td>\n",
       "      <td>http://images.amazon.com/images/P/0830714014.0...</td>\n",
       "      <td>237</td>\n",
       "      <td>0.0</td>\n",
       "    </tr>\n",
       "    <tr>\n",
       "      <th>21411</th>\n",
       "      <td>8433914545</td>\n",
       "      <td>El Palacio de La Luna</td>\n",
       "      <td>Paul Auster</td>\n",
       "      <td>1996</td>\n",
       "      <td>Anagrama</td>\n",
       "      <td>http://images.amazon.com/images/P/8433914545.0...</td>\n",
       "      <td>http://images.amazon.com/images/P/8433914545.0...</td>\n",
       "      <td>http://images.amazon.com/images/P/8433914545.0...</td>\n",
       "      <td>361</td>\n",
       "      <td>8.0</td>\n",
       "    </tr>\n",
       "    <tr>\n",
       "      <th>...</th>\n",
       "      <td>...</td>\n",
       "      <td>...</td>\n",
       "      <td>...</td>\n",
       "      <td>...</td>\n",
       "      <td>...</td>\n",
       "      <td>...</td>\n",
       "      <td>...</td>\n",
       "      <td>...</td>\n",
       "      <td>...</td>\n",
       "      <td>...</td>\n",
       "    </tr>\n",
       "    <tr>\n",
       "      <th>1008642</th>\n",
       "      <td>1400060257</td>\n",
       "      <td>Royal Heist : A Novel (La Plante, Lynda)</td>\n",
       "      <td>LYNDA LA PLANTE</td>\n",
       "      <td>2004</td>\n",
       "      <td>Random House</td>\n",
       "      <td>http://images.amazon.com/images/P/1400060257.0...</td>\n",
       "      <td>http://images.amazon.com/images/P/1400060257.0...</td>\n",
       "      <td>http://images.amazon.com/images/P/1400060257.0...</td>\n",
       "      <td>22365</td>\n",
       "      <td>0.0</td>\n",
       "    </tr>\n",
       "    <tr>\n",
       "      <th>1008643</th>\n",
       "      <td>1582433186</td>\n",
       "      <td>The Mercy Killers: A Novel</td>\n",
       "      <td>Lisa Reardon</td>\n",
       "      <td>2004</td>\n",
       "      <td>Counterpoint Press</td>\n",
       "      <td>http://images.amazon.com/images/P/1582433186.0...</td>\n",
       "      <td>http://images.amazon.com/images/P/1582433186.0...</td>\n",
       "      <td>http://images.amazon.com/images/P/1582433186.0...</td>\n",
       "      <td>22365</td>\n",
       "      <td>0.0</td>\n",
       "    </tr>\n",
       "    <tr>\n",
       "      <th>1008646</th>\n",
       "      <td>0446525979</td>\n",
       "      <td>Ain't It Cool? Hollywood's Redheaded Stepchild...</td>\n",
       "      <td>Harry Knowles</td>\n",
       "      <td>2002</td>\n",
       "      <td>Warner Books</td>\n",
       "      <td>http://images.amazon.com/images/P/0446525979.0...</td>\n",
       "      <td>http://images.amazon.com/images/P/0446525979.0...</td>\n",
       "      <td>http://images.amazon.com/images/P/0446525979.0...</td>\n",
       "      <td>23659</td>\n",
       "      <td>0.0</td>\n",
       "    </tr>\n",
       "    <tr>\n",
       "      <th>1008647</th>\n",
       "      <td>082395059X</td>\n",
       "      <td>Comets and Asteroids (Exploring Space)</td>\n",
       "      <td>Amanda Davis</td>\n",
       "      <td>1998</td>\n",
       "      <td>PowerKids Press</td>\n",
       "      <td>http://images.amazon.com/images/P/082395059X.0...</td>\n",
       "      <td>http://images.amazon.com/images/P/082395059X.0...</td>\n",
       "      <td>http://images.amazon.com/images/P/082395059X.0...</td>\n",
       "      <td>23659</td>\n",
       "      <td>0.0</td>\n",
       "    </tr>\n",
       "    <tr>\n",
       "      <th>1008648</th>\n",
       "      <td>1401300588</td>\n",
       "      <td>The Tree Bride : A Novel</td>\n",
       "      <td>Bharati Mukherjee</td>\n",
       "      <td>2004</td>\n",
       "      <td>Hyperion</td>\n",
       "      <td>http://images.amazon.com/images/P/1401300588.0...</td>\n",
       "      <td>http://images.amazon.com/images/P/1401300588.0...</td>\n",
       "      <td>http://images.amazon.com/images/P/1401300588.0...</td>\n",
       "      <td>23659</td>\n",
       "      <td>0.0</td>\n",
       "    </tr>\n",
       "  </tbody>\n",
       "</table>\n",
       "<p>1804 rows × 10 columns</p>\n",
       "</div>"
      ],
      "text/plain": [
       "               ISBN                                         Book-Title  \\\n",
       "6755     0312970242                                  The Angel Is Near   \n",
       "6792     0060938412                              The Accidental Virgin   \n",
       "12874    0785263292  If Singleness Is a Gift, What's the Return Pol...   \n",
       "12876    0830714014  Always Daddy's Girl: Understanding Your Father...   \n",
       "21411    8433914545                              El Palacio de La Luna   \n",
       "...             ...                                                ...   \n",
       "1008642  1400060257           Royal Heist : A Novel (La Plante, Lynda)   \n",
       "1008643  1582433186                         The Mercy Killers: A Novel   \n",
       "1008646  0446525979  Ain't It Cool? Hollywood's Redheaded Stepchild...   \n",
       "1008647  082395059X             Comets and Asteroids (Exploring Space)   \n",
       "1008648  1401300588                           The Tree Bride : A Novel   \n",
       "\n",
       "               Book-Author Year-Of-Publication           Publisher  \\\n",
       "6755         Deepak Chopra                2000  St. Martin's Press   \n",
       "6792       Valerie Frankel                2003          Avon Trade   \n",
       "12874         Holly Virden                2003        Nelson Books   \n",
       "12876     H. Norman Wright                1989         Regal Books   \n",
       "21411          Paul Auster                1996            Anagrama   \n",
       "...                    ...                 ...                 ...   \n",
       "1008642    LYNDA LA PLANTE                2004        Random House   \n",
       "1008643       Lisa Reardon                2004  Counterpoint Press   \n",
       "1008646      Harry Knowles                2002        Warner Books   \n",
       "1008647       Amanda Davis                1998     PowerKids Press   \n",
       "1008648  Bharati Mukherjee                2004            Hyperion   \n",
       "\n",
       "                                               Image-URL-S  \\\n",
       "6755     http://images.amazon.com/images/P/0312970242.0...   \n",
       "6792     http://images.amazon.com/images/P/0060938412.0...   \n",
       "12874    http://images.amazon.com/images/P/0785263292.0...   \n",
       "12876    http://images.amazon.com/images/P/0830714014.0...   \n",
       "21411    http://images.amazon.com/images/P/8433914545.0...   \n",
       "...                                                    ...   \n",
       "1008642  http://images.amazon.com/images/P/1400060257.0...   \n",
       "1008643  http://images.amazon.com/images/P/1582433186.0...   \n",
       "1008646  http://images.amazon.com/images/P/0446525979.0...   \n",
       "1008647  http://images.amazon.com/images/P/082395059X.0...   \n",
       "1008648  http://images.amazon.com/images/P/1401300588.0...   \n",
       "\n",
       "                                               Image-URL-M  \\\n",
       "6755     http://images.amazon.com/images/P/0312970242.0...   \n",
       "6792     http://images.amazon.com/images/P/0060938412.0...   \n",
       "12874    http://images.amazon.com/images/P/0785263292.0...   \n",
       "12876    http://images.amazon.com/images/P/0830714014.0...   \n",
       "21411    http://images.amazon.com/images/P/8433914545.0...   \n",
       "...                                                    ...   \n",
       "1008642  http://images.amazon.com/images/P/1400060257.0...   \n",
       "1008643  http://images.amazon.com/images/P/1582433186.0...   \n",
       "1008646  http://images.amazon.com/images/P/0446525979.0...   \n",
       "1008647  http://images.amazon.com/images/P/082395059X.0...   \n",
       "1008648  http://images.amazon.com/images/P/1401300588.0...   \n",
       "\n",
       "                                               Image-URL-L  User-ID  \\\n",
       "6755     http://images.amazon.com/images/P/0312970242.0...       69   \n",
       "6792     http://images.amazon.com/images/P/0060938412.0...       73   \n",
       "12874    http://images.amazon.com/images/P/0785263292.0...      237   \n",
       "12876    http://images.amazon.com/images/P/0830714014.0...      237   \n",
       "21411    http://images.amazon.com/images/P/8433914545.0...      361   \n",
       "...                                                    ...      ...   \n",
       "1008642  http://images.amazon.com/images/P/1400060257.0...    22365   \n",
       "1008643  http://images.amazon.com/images/P/1582433186.0...    22365   \n",
       "1008646  http://images.amazon.com/images/P/0446525979.0...    23659   \n",
       "1008647  http://images.amazon.com/images/P/082395059X.0...    23659   \n",
       "1008648  http://images.amazon.com/images/P/1401300588.0...    23659   \n",
       "\n",
       "         Book-Rating  \n",
       "6755             0.0  \n",
       "6792             5.0  \n",
       "12874            0.0  \n",
       "12876            0.0  \n",
       "21411            8.0  \n",
       "...              ...  \n",
       "1008642          0.0  \n",
       "1008643          0.0  \n",
       "1008646          0.0  \n",
       "1008647          0.0  \n",
       "1008648          0.0  \n",
       "\n",
       "[1804 rows x 10 columns]"
      ]
     },
     "execution_count": 203,
     "metadata": {},
     "output_type": "execute_result"
    }
   ],
   "source": [
    "filtered_ratings = book_rating_df[book_rating_df['User-ID'].isin(most_popular_users_index)]\n",
    "filtered_ratings"
   ]
  },
  {
   "cell_type": "code",
   "execution_count": 46,
   "id": "61c54709-dfa7-4774-88ff-e7ac66ff3276",
   "metadata": {},
   "outputs": [],
   "source": [
    "# There two ways to do this \n",
    "# 1. we can search these users in book_rating_df with corresponding books finds the somialrity between them but losing some of thebooks\n",
    "# 2.we can consider all the users and books then finds the similarity between them.\n",
    "# Let's try out the second one"
   ]
  },
  {
   "cell_type": "code",
   "execution_count": null,
   "id": "4becd859-e7ad-4512-af64-8b737804478a",
   "metadata": {},
   "outputs": [],
   "source": []
  },
  {
   "cell_type": "code",
   "execution_count": 47,
   "id": "4de8d648-4e24-4152-9fbc-2c339d0b82b9",
   "metadata": {},
   "outputs": [],
   "source": [
    "# Creating pivot table for the booktitle as index,column as users,values as ratings"
   ]
  },
  {
   "cell_type": "code",
   "execution_count": 75,
   "id": "62fa10b5-4b16-4e10-8589-e33ecd326c86",
   "metadata": {},
   "outputs": [
    {
     "data": {
      "text/plain": [
       "(241071, 10)"
      ]
     },
     "execution_count": 75,
     "metadata": {},
     "output_type": "execute_result"
    }
   ],
   "source": [
    "book_rating_df.shape"
   ]
  },
  {
   "cell_type": "code",
   "execution_count": 76,
   "id": "a7642046-d51b-4354-8ee9-63451829f7f9",
   "metadata": {},
   "outputs": [],
   "source": [
    "book_rating_df.dropna(subset=['User-ID', 'Book-Title', 'Book-Rating'], inplace=True)\n"
   ]
  },
  {
   "cell_type": "code",
   "execution_count": 77,
   "id": "2cfa0535-a3b1-453d-952c-a5b9f9fe45ad",
   "metadata": {},
   "outputs": [],
   "source": [
    "book_rating_df['User-ID'] = book_rating_df['User-ID'].astype(int)\n",
    "book_rating_df['Book-Rating'] = book_rating_df['Book-Rating'].astype(float)\n"
   ]
  },
  {
   "cell_type": "code",
   "execution_count": 78,
   "id": "9c6fde22-22d0-4b82-b24a-e15bd081223e",
   "metadata": {},
   "outputs": [],
   "source": [
    "book_rating_df = book_rating_df.drop_duplicates(subset=['User-ID', 'Book-Title'])\n"
   ]
  },
  {
   "cell_type": "code",
   "execution_count": 79,
   "id": "4a84908e-ea76-4b44-bf96-0d320e65690d",
   "metadata": {},
   "outputs": [
    {
     "name": "stdout",
     "output_type": "stream",
     "text": [
      "ISBN                   0\n",
      "Book-Title             0\n",
      "Book-Author            2\n",
      "Year-Of-Publication    0\n",
      "Publisher              1\n",
      "Image-URL-S            0\n",
      "Image-URL-M            0\n",
      "Image-URL-L            3\n",
      "User-ID                0\n",
      "Book-Rating            0\n",
      "dtype: int64\n"
     ]
    }
   ],
   "source": [
    "print(book_rating_df.isnull().sum())\n"
   ]
  },
  {
   "cell_type": "code",
   "execution_count": 80,
   "id": "8229f752-438e-4f0c-aa5f-c7fdce1787c4",
   "metadata": {},
   "outputs": [
    {
     "name": "stdout",
     "output_type": "stream",
     "text": [
      "ISBN                    object\n",
      "Book-Title              object\n",
      "Book-Author             object\n",
      "Year-Of-Publication     object\n",
      "Publisher               object\n",
      "Image-URL-S             object\n",
      "Image-URL-M             object\n",
      "Image-URL-L             object\n",
      "User-ID                  int32\n",
      "Book-Rating            float64\n",
      "dtype: object\n"
     ]
    }
   ],
   "source": [
    "print(book_rating_df.dtypes)\n"
   ]
  },
  {
   "cell_type": "code",
   "execution_count": 81,
   "id": "78d56890-66c2-477a-9bcc-8e13419876c2",
   "metadata": {},
   "outputs": [
    {
     "name": "stdout",
     "output_type": "stream",
     "text": [
      "0\n"
     ]
    }
   ],
   "source": [
    "print(book_rating_df.duplicated(subset=['Book-Title', 'User-ID']).sum())"
   ]
  },
  {
   "cell_type": "code",
   "execution_count": 54,
   "id": "1081f5c2-3bcf-4d72-9421-43227aa49e8a",
   "metadata": {},
   "outputs": [
    {
     "ename": "ValueError",
     "evalue": "negative dimensions are not allowed",
     "output_type": "error",
     "traceback": [
      "\u001b[1;31m---------------------------------------------------------------------------\u001b[0m",
      "\u001b[1;31mValueError\u001b[0m                                Traceback (most recent call last)",
      "Cell \u001b[1;32mIn[54], line 1\u001b[0m\n\u001b[1;32m----> 1\u001b[0m pt \u001b[38;5;241m=\u001b[39m book_rating_df\u001b[38;5;241m.\u001b[39mpivot_table(index\u001b[38;5;241m=\u001b[39m\u001b[38;5;124m'\u001b[39m\u001b[38;5;124mBook-Title\u001b[39m\u001b[38;5;124m'\u001b[39m, columns\u001b[38;5;241m=\u001b[39m\u001b[38;5;124m'\u001b[39m\u001b[38;5;124mUser-ID\u001b[39m\u001b[38;5;124m'\u001b[39m, values\u001b[38;5;241m=\u001b[39m\u001b[38;5;124m'\u001b[39m\u001b[38;5;124mBook-Rating\u001b[39m\u001b[38;5;124m'\u001b[39m, fill_value\u001b[38;5;241m=\u001b[39m\u001b[38;5;241m0\u001b[39m)\n",
      "File \u001b[1;32m~\\AppData\\Roaming\\Python\\Python311\\site-packages\\pandas\\core\\frame.py:9509\u001b[0m, in \u001b[0;36mDataFrame.pivot_table\u001b[1;34m(self, values, index, columns, aggfunc, fill_value, margins, dropna, margins_name, observed, sort)\u001b[0m\n\u001b[0;32m   9492\u001b[0m \u001b[38;5;129m@Substitution\u001b[39m(\u001b[38;5;124m\"\u001b[39m\u001b[38;5;124m\"\u001b[39m)\n\u001b[0;32m   9493\u001b[0m \u001b[38;5;129m@Appender\u001b[39m(_shared_docs[\u001b[38;5;124m\"\u001b[39m\u001b[38;5;124mpivot_table\u001b[39m\u001b[38;5;124m\"\u001b[39m])\n\u001b[0;32m   9494\u001b[0m \u001b[38;5;28;01mdef\u001b[39;00m\u001b[38;5;250m \u001b[39m\u001b[38;5;21mpivot_table\u001b[39m(\n\u001b[1;32m   (...)\u001b[0m\n\u001b[0;32m   9505\u001b[0m     sort: \u001b[38;5;28mbool\u001b[39m \u001b[38;5;241m=\u001b[39m \u001b[38;5;28;01mTrue\u001b[39;00m,\n\u001b[0;32m   9506\u001b[0m ) \u001b[38;5;241m-\u001b[39m\u001b[38;5;241m>\u001b[39m DataFrame:\n\u001b[0;32m   9507\u001b[0m     \u001b[38;5;28;01mfrom\u001b[39;00m\u001b[38;5;250m \u001b[39m\u001b[38;5;21;01mpandas\u001b[39;00m\u001b[38;5;21;01m.\u001b[39;00m\u001b[38;5;21;01mcore\u001b[39;00m\u001b[38;5;21;01m.\u001b[39;00m\u001b[38;5;21;01mreshape\u001b[39;00m\u001b[38;5;21;01m.\u001b[39;00m\u001b[38;5;21;01mpivot\u001b[39;00m\u001b[38;5;250m \u001b[39m\u001b[38;5;28;01mimport\u001b[39;00m pivot_table\n\u001b[1;32m-> 9509\u001b[0m     \u001b[38;5;28;01mreturn\u001b[39;00m pivot_table(\n\u001b[0;32m   9510\u001b[0m         \u001b[38;5;28mself\u001b[39m,\n\u001b[0;32m   9511\u001b[0m         values\u001b[38;5;241m=\u001b[39mvalues,\n\u001b[0;32m   9512\u001b[0m         index\u001b[38;5;241m=\u001b[39mindex,\n\u001b[0;32m   9513\u001b[0m         columns\u001b[38;5;241m=\u001b[39mcolumns,\n\u001b[0;32m   9514\u001b[0m         aggfunc\u001b[38;5;241m=\u001b[39maggfunc,\n\u001b[0;32m   9515\u001b[0m         fill_value\u001b[38;5;241m=\u001b[39mfill_value,\n\u001b[0;32m   9516\u001b[0m         margins\u001b[38;5;241m=\u001b[39mmargins,\n\u001b[0;32m   9517\u001b[0m         dropna\u001b[38;5;241m=\u001b[39mdropna,\n\u001b[0;32m   9518\u001b[0m         margins_name\u001b[38;5;241m=\u001b[39mmargins_name,\n\u001b[0;32m   9519\u001b[0m         observed\u001b[38;5;241m=\u001b[39mobserved,\n\u001b[0;32m   9520\u001b[0m         sort\u001b[38;5;241m=\u001b[39msort,\n\u001b[0;32m   9521\u001b[0m     )\n",
      "File \u001b[1;32m~\\AppData\\Roaming\\Python\\Python311\\site-packages\\pandas\\core\\reshape\\pivot.py:102\u001b[0m, in \u001b[0;36mpivot_table\u001b[1;34m(data, values, index, columns, aggfunc, fill_value, margins, dropna, margins_name, observed, sort)\u001b[0m\n\u001b[0;32m     99\u001b[0m     table \u001b[38;5;241m=\u001b[39m concat(pieces, keys\u001b[38;5;241m=\u001b[39mkeys, axis\u001b[38;5;241m=\u001b[39m\u001b[38;5;241m1\u001b[39m)\n\u001b[0;32m    100\u001b[0m     \u001b[38;5;28;01mreturn\u001b[39;00m table\u001b[38;5;241m.\u001b[39m__finalize__(data, method\u001b[38;5;241m=\u001b[39m\u001b[38;5;124m\"\u001b[39m\u001b[38;5;124mpivot_table\u001b[39m\u001b[38;5;124m\"\u001b[39m)\n\u001b[1;32m--> 102\u001b[0m table \u001b[38;5;241m=\u001b[39m __internal_pivot_table(\n\u001b[0;32m    103\u001b[0m     data,\n\u001b[0;32m    104\u001b[0m     values,\n\u001b[0;32m    105\u001b[0m     index,\n\u001b[0;32m    106\u001b[0m     columns,\n\u001b[0;32m    107\u001b[0m     aggfunc,\n\u001b[0;32m    108\u001b[0m     fill_value,\n\u001b[0;32m    109\u001b[0m     margins,\n\u001b[0;32m    110\u001b[0m     dropna,\n\u001b[0;32m    111\u001b[0m     margins_name,\n\u001b[0;32m    112\u001b[0m     observed,\n\u001b[0;32m    113\u001b[0m     sort,\n\u001b[0;32m    114\u001b[0m )\n\u001b[0;32m    115\u001b[0m \u001b[38;5;28;01mreturn\u001b[39;00m table\u001b[38;5;241m.\u001b[39m__finalize__(data, method\u001b[38;5;241m=\u001b[39m\u001b[38;5;124m\"\u001b[39m\u001b[38;5;124mpivot_table\u001b[39m\u001b[38;5;124m\"\u001b[39m)\n",
      "File \u001b[1;32m~\\AppData\\Roaming\\Python\\Python311\\site-packages\\pandas\\core\\reshape\\pivot.py:203\u001b[0m, in \u001b[0;36m__internal_pivot_table\u001b[1;34m(data, values, index, columns, aggfunc, fill_value, margins, dropna, margins_name, observed, sort)\u001b[0m\n\u001b[0;32m    201\u001b[0m         \u001b[38;5;28;01melse\u001b[39;00m:\n\u001b[0;32m    202\u001b[0m             to_unstack\u001b[38;5;241m.\u001b[39mappend(name)\n\u001b[1;32m--> 203\u001b[0m     table \u001b[38;5;241m=\u001b[39m agged\u001b[38;5;241m.\u001b[39munstack(to_unstack, fill_value\u001b[38;5;241m=\u001b[39mfill_value)\n\u001b[0;32m    205\u001b[0m \u001b[38;5;28;01mif\u001b[39;00m \u001b[38;5;129;01mnot\u001b[39;00m dropna:\n\u001b[0;32m    206\u001b[0m     \u001b[38;5;28;01mif\u001b[39;00m \u001b[38;5;28misinstance\u001b[39m(table\u001b[38;5;241m.\u001b[39mindex, MultiIndex):\n",
      "File \u001b[1;32m~\\AppData\\Roaming\\Python\\Python311\\site-packages\\pandas\\core\\frame.py:9928\u001b[0m, in \u001b[0;36mDataFrame.unstack\u001b[1;34m(self, level, fill_value, sort)\u001b[0m\n\u001b[0;32m   9864\u001b[0m \u001b[38;5;250m\u001b[39m\u001b[38;5;124;03m\"\"\"\u001b[39;00m\n\u001b[0;32m   9865\u001b[0m \u001b[38;5;124;03mPivot a level of the (necessarily hierarchical) index labels.\u001b[39;00m\n\u001b[0;32m   9866\u001b[0m \n\u001b[1;32m   (...)\u001b[0m\n\u001b[0;32m   9924\u001b[0m \u001b[38;5;124;03mdtype: float64\u001b[39;00m\n\u001b[0;32m   9925\u001b[0m \u001b[38;5;124;03m\"\"\"\u001b[39;00m\n\u001b[0;32m   9926\u001b[0m \u001b[38;5;28;01mfrom\u001b[39;00m\u001b[38;5;250m \u001b[39m\u001b[38;5;21;01mpandas\u001b[39;00m\u001b[38;5;21;01m.\u001b[39;00m\u001b[38;5;21;01mcore\u001b[39;00m\u001b[38;5;21;01m.\u001b[39;00m\u001b[38;5;21;01mreshape\u001b[39;00m\u001b[38;5;21;01m.\u001b[39;00m\u001b[38;5;21;01mreshape\u001b[39;00m\u001b[38;5;250m \u001b[39m\u001b[38;5;28;01mimport\u001b[39;00m unstack\n\u001b[1;32m-> 9928\u001b[0m result \u001b[38;5;241m=\u001b[39m unstack(\u001b[38;5;28mself\u001b[39m, level, fill_value, sort)\n\u001b[0;32m   9930\u001b[0m \u001b[38;5;28;01mreturn\u001b[39;00m result\u001b[38;5;241m.\u001b[39m__finalize__(\u001b[38;5;28mself\u001b[39m, method\u001b[38;5;241m=\u001b[39m\u001b[38;5;124m\"\u001b[39m\u001b[38;5;124munstack\u001b[39m\u001b[38;5;124m\"\u001b[39m)\n",
      "File \u001b[1;32m~\\AppData\\Roaming\\Python\\Python311\\site-packages\\pandas\\core\\reshape\\reshape.py:504\u001b[0m, in \u001b[0;36munstack\u001b[1;34m(obj, level, fill_value, sort)\u001b[0m\n\u001b[0;32m    502\u001b[0m \u001b[38;5;28;01mif\u001b[39;00m \u001b[38;5;28misinstance\u001b[39m(obj, DataFrame):\n\u001b[0;32m    503\u001b[0m     \u001b[38;5;28;01mif\u001b[39;00m \u001b[38;5;28misinstance\u001b[39m(obj\u001b[38;5;241m.\u001b[39mindex, MultiIndex):\n\u001b[1;32m--> 504\u001b[0m         \u001b[38;5;28;01mreturn\u001b[39;00m _unstack_frame(obj, level, fill_value\u001b[38;5;241m=\u001b[39mfill_value, sort\u001b[38;5;241m=\u001b[39msort)\n\u001b[0;32m    505\u001b[0m     \u001b[38;5;28;01melse\u001b[39;00m:\n\u001b[0;32m    506\u001b[0m         \u001b[38;5;28;01mreturn\u001b[39;00m obj\u001b[38;5;241m.\u001b[39mT\u001b[38;5;241m.\u001b[39mstack(future_stack\u001b[38;5;241m=\u001b[39m\u001b[38;5;28;01mTrue\u001b[39;00m)\n",
      "File \u001b[1;32m~\\AppData\\Roaming\\Python\\Python311\\site-packages\\pandas\\core\\reshape\\reshape.py:529\u001b[0m, in \u001b[0;36m_unstack_frame\u001b[1;34m(obj, level, fill_value, sort)\u001b[0m\n\u001b[0;32m    525\u001b[0m \u001b[38;5;28;01mdef\u001b[39;00m\u001b[38;5;250m \u001b[39m\u001b[38;5;21m_unstack_frame\u001b[39m(\n\u001b[0;32m    526\u001b[0m     obj: DataFrame, level, fill_value\u001b[38;5;241m=\u001b[39m\u001b[38;5;28;01mNone\u001b[39;00m, sort: \u001b[38;5;28mbool\u001b[39m \u001b[38;5;241m=\u001b[39m \u001b[38;5;28;01mTrue\u001b[39;00m\n\u001b[0;32m    527\u001b[0m ) \u001b[38;5;241m-\u001b[39m\u001b[38;5;241m>\u001b[39m DataFrame:\n\u001b[0;32m    528\u001b[0m     \u001b[38;5;28;01massert\u001b[39;00m \u001b[38;5;28misinstance\u001b[39m(obj\u001b[38;5;241m.\u001b[39mindex, MultiIndex)  \u001b[38;5;66;03m# checked by caller\u001b[39;00m\n\u001b[1;32m--> 529\u001b[0m     unstacker \u001b[38;5;241m=\u001b[39m _Unstacker(\n\u001b[0;32m    530\u001b[0m         obj\u001b[38;5;241m.\u001b[39mindex, level\u001b[38;5;241m=\u001b[39mlevel, constructor\u001b[38;5;241m=\u001b[39mobj\u001b[38;5;241m.\u001b[39m_constructor, sort\u001b[38;5;241m=\u001b[39msort\n\u001b[0;32m    531\u001b[0m     )\n\u001b[0;32m    533\u001b[0m     \u001b[38;5;28;01mif\u001b[39;00m \u001b[38;5;129;01mnot\u001b[39;00m obj\u001b[38;5;241m.\u001b[39m_can_fast_transpose:\n\u001b[0;32m    534\u001b[0m         mgr \u001b[38;5;241m=\u001b[39m obj\u001b[38;5;241m.\u001b[39m_mgr\u001b[38;5;241m.\u001b[39munstack(unstacker, fill_value\u001b[38;5;241m=\u001b[39mfill_value)\n",
      "File \u001b[1;32m~\\AppData\\Roaming\\Python\\Python311\\site-packages\\pandas\\core\\reshape\\reshape.py:154\u001b[0m, in \u001b[0;36m_Unstacker.__init__\u001b[1;34m(self, index, level, constructor, sort)\u001b[0m\n\u001b[0;32m    146\u001b[0m \u001b[38;5;28;01mif\u001b[39;00m num_cells \u001b[38;5;241m>\u001b[39m np\u001b[38;5;241m.\u001b[39miinfo(np\u001b[38;5;241m.\u001b[39mint32)\u001b[38;5;241m.\u001b[39mmax:\n\u001b[0;32m    147\u001b[0m     warnings\u001b[38;5;241m.\u001b[39mwarn(\n\u001b[0;32m    148\u001b[0m         \u001b[38;5;124mf\u001b[39m\u001b[38;5;124m\"\u001b[39m\u001b[38;5;124mThe following operation may generate \u001b[39m\u001b[38;5;132;01m{\u001b[39;00mnum_cells\u001b[38;5;132;01m}\u001b[39;00m\u001b[38;5;124m cells \u001b[39m\u001b[38;5;124m\"\u001b[39m\n\u001b[0;32m    149\u001b[0m         \u001b[38;5;124mf\u001b[39m\u001b[38;5;124m\"\u001b[39m\u001b[38;5;124min the resulting pandas object.\u001b[39m\u001b[38;5;124m\"\u001b[39m,\n\u001b[0;32m    150\u001b[0m         PerformanceWarning,\n\u001b[0;32m    151\u001b[0m         stacklevel\u001b[38;5;241m=\u001b[39mfind_stack_level(),\n\u001b[0;32m    152\u001b[0m     )\n\u001b[1;32m--> 154\u001b[0m \u001b[38;5;28mself\u001b[39m\u001b[38;5;241m.\u001b[39m_make_selectors()\n",
      "File \u001b[1;32m~\\AppData\\Roaming\\Python\\Python311\\site-packages\\pandas\\core\\reshape\\reshape.py:206\u001b[0m, in \u001b[0;36m_Unstacker._make_selectors\u001b[1;34m(self)\u001b[0m\n\u001b[0;32m    203\u001b[0m \u001b[38;5;28mself\u001b[39m\u001b[38;5;241m.\u001b[39mfull_shape \u001b[38;5;241m=\u001b[39m ngroups, stride\n\u001b[0;32m    205\u001b[0m selector \u001b[38;5;241m=\u001b[39m \u001b[38;5;28mself\u001b[39m\u001b[38;5;241m.\u001b[39msorted_labels[\u001b[38;5;241m-\u001b[39m\u001b[38;5;241m1\u001b[39m] \u001b[38;5;241m+\u001b[39m stride \u001b[38;5;241m*\u001b[39m comp_index \u001b[38;5;241m+\u001b[39m \u001b[38;5;28mself\u001b[39m\u001b[38;5;241m.\u001b[39mlift\n\u001b[1;32m--> 206\u001b[0m mask \u001b[38;5;241m=\u001b[39m np\u001b[38;5;241m.\u001b[39mzeros(np\u001b[38;5;241m.\u001b[39mprod(\u001b[38;5;28mself\u001b[39m\u001b[38;5;241m.\u001b[39mfull_shape), dtype\u001b[38;5;241m=\u001b[39m\u001b[38;5;28mbool\u001b[39m)\n\u001b[0;32m    207\u001b[0m mask\u001b[38;5;241m.\u001b[39mput(selector, \u001b[38;5;28;01mTrue\u001b[39;00m)\n\u001b[0;32m    209\u001b[0m \u001b[38;5;28;01mif\u001b[39;00m mask\u001b[38;5;241m.\u001b[39msum() \u001b[38;5;241m<\u001b[39m \u001b[38;5;28mlen\u001b[39m(\u001b[38;5;28mself\u001b[39m\u001b[38;5;241m.\u001b[39mindex):\n",
      "\u001b[1;31mValueError\u001b[0m: negative dimensions are not allowed"
     ]
    }
   ],
   "source": [
    "pt = book_rating_df.pivot_table(index='Book-Title', columns='User-ID', values='Book-Rating', fill_value=0)\n"
   ]
  },
  {
   "cell_type": "code",
   "execution_count": 82,
   "id": "8d499c15-195f-434e-b230-e50955079b37",
   "metadata": {},
   "outputs": [
    {
     "data": {
      "text/plain": [
       "(241071, 10)"
      ]
     },
     "execution_count": 82,
     "metadata": {},
     "output_type": "execute_result"
    }
   ],
   "source": [
    "book_rating_df.shape"
   ]
  },
  {
   "cell_type": "code",
   "execution_count": 83,
   "id": "09732f77-947d-493a-8309-eb5a03bdfb54",
   "metadata": {},
   "outputs": [
    {
     "name": "stdout",
     "output_type": "stream",
     "text": [
      "Unique Books: 241071\n",
      "Unique Users: 32244\n"
     ]
    }
   ],
   "source": [
    "print(\"Unique Books:\", book_rating_df['Book-Title'].nunique())\n",
    "print(\"Unique Users:\", book_rating_df['User-ID'].nunique())"
   ]
  },
  {
   "cell_type": "code",
   "execution_count": 205,
   "id": "ac85bd7b-9340-4fbb-b7d6-4e7f4a7aecba",
   "metadata": {},
   "outputs": [],
   "source": [
    "# For the sencod method we getting many users i.e many columns for the pivot table so it is unable do that.\n",
    "# So now Keep only books and users with at least 30 ratings(above already created)"
   ]
  },
  {
   "cell_type": "code",
   "execution_count": 206,
   "id": "ce149b79-1ec8-4b1c-8c64-82532c97fb9e",
   "metadata": {},
   "outputs": [],
   "source": [
    "final_df = filtered_ratings.copy()"
   ]
  },
  {
   "cell_type": "code",
   "execution_count": 233,
   "id": "d08afe82-4d28-4563-a717-c4ef226577a0",
   "metadata": {},
   "outputs": [
    {
     "data": {
      "text/plain": [
       "Index([   6755,    6792,   12874,   12876,   21411,   21424,   27400,   27403,\n",
       "         27548,   27966,\n",
       "       ...\n",
       "       1008627, 1008628, 1008629, 1008640, 1008641, 1008642, 1008643, 1008646,\n",
       "       1008647, 1008648],\n",
       "      dtype='int64', length=1804)"
      ]
     },
     "execution_count": 233,
     "metadata": {},
     "output_type": "execute_result"
    }
   ],
   "source": [
    "final_df.index"
   ]
  },
  {
   "cell_type": "code",
   "execution_count": 224,
   "id": "b4dc668b-4dda-4f36-9d11-845aad1645e6",
   "metadata": {},
   "outputs": [],
   "source": [
    "pt = final_df.pivot_table(index='Book-Title', columns='User-ID', values='Book-Rating', fill_value=0)"
   ]
  },
  {
   "cell_type": "code",
   "execution_count": 225,
   "id": "60b72b1b-8448-4468-9ec6-fd365485f6a9",
   "metadata": {},
   "outputs": [
    {
     "data": {
      "text/html": [
       "<div>\n",
       "<style scoped>\n",
       "    .dataframe tbody tr th:only-of-type {\n",
       "        vertical-align: middle;\n",
       "    }\n",
       "\n",
       "    .dataframe tbody tr th {\n",
       "        vertical-align: top;\n",
       "    }\n",
       "\n",
       "    .dataframe thead th {\n",
       "        text-align: right;\n",
       "    }\n",
       "</style>\n",
       "<table border=\"1\" class=\"dataframe\">\n",
       "  <thead>\n",
       "    <tr style=\"text-align: right;\">\n",
       "      <th>User-ID</th>\n",
       "      <th>69</th>\n",
       "      <th>73</th>\n",
       "      <th>237</th>\n",
       "      <th>361</th>\n",
       "      <th>424</th>\n",
       "      <th>439</th>\n",
       "      <th>463</th>\n",
       "      <th>505</th>\n",
       "      <th>595</th>\n",
       "      <th>685</th>\n",
       "      <th>...</th>\n",
       "      <th>30351</th>\n",
       "      <th>30507</th>\n",
       "      <th>30598</th>\n",
       "      <th>31005</th>\n",
       "      <th>31044</th>\n",
       "      <th>31070</th>\n",
       "      <th>31410</th>\n",
       "      <th>31568</th>\n",
       "      <th>32110</th>\n",
       "      <th>32182</th>\n",
       "    </tr>\n",
       "    <tr>\n",
       "      <th>Book-Title</th>\n",
       "      <th></th>\n",
       "      <th></th>\n",
       "      <th></th>\n",
       "      <th></th>\n",
       "      <th></th>\n",
       "      <th></th>\n",
       "      <th></th>\n",
       "      <th></th>\n",
       "      <th></th>\n",
       "      <th></th>\n",
       "      <th></th>\n",
       "      <th></th>\n",
       "      <th></th>\n",
       "      <th></th>\n",
       "      <th></th>\n",
       "      <th></th>\n",
       "      <th></th>\n",
       "      <th></th>\n",
       "      <th></th>\n",
       "      <th></th>\n",
       "      <th></th>\n",
       "    </tr>\n",
       "  </thead>\n",
       "  <tbody>\n",
       "    <tr>\n",
       "      <th>It Takes Two</th>\n",
       "      <td>0.0</td>\n",
       "      <td>0.0</td>\n",
       "      <td>0.0</td>\n",
       "      <td>0.0</td>\n",
       "      <td>0.0</td>\n",
       "      <td>0.0</td>\n",
       "      <td>0.0</td>\n",
       "      <td>0.0</td>\n",
       "      <td>0.0</td>\n",
       "      <td>0.0</td>\n",
       "      <td>...</td>\n",
       "      <td>0.0</td>\n",
       "      <td>0.0</td>\n",
       "      <td>0.0</td>\n",
       "      <td>0.0</td>\n",
       "      <td>0.0</td>\n",
       "      <td>0.0</td>\n",
       "      <td>0.0</td>\n",
       "      <td>0.0</td>\n",
       "      <td>0.0</td>\n",
       "      <td>0.0</td>\n",
       "    </tr>\n",
       "    <tr>\n",
       "      <th>Mystery Mile</th>\n",
       "      <td>0.0</td>\n",
       "      <td>0.0</td>\n",
       "      <td>0.0</td>\n",
       "      <td>0.0</td>\n",
       "      <td>0.0</td>\n",
       "      <td>0.0</td>\n",
       "      <td>0.0</td>\n",
       "      <td>0.0</td>\n",
       "      <td>0.0</td>\n",
       "      <td>0.0</td>\n",
       "      <td>...</td>\n",
       "      <td>0.0</td>\n",
       "      <td>0.0</td>\n",
       "      <td>0.0</td>\n",
       "      <td>0.0</td>\n",
       "      <td>0.0</td>\n",
       "      <td>0.0</td>\n",
       "      <td>0.0</td>\n",
       "      <td>0.0</td>\n",
       "      <td>0.0</td>\n",
       "      <td>0.0</td>\n",
       "    </tr>\n",
       "    <tr>\n",
       "      <th>100 greatest golf courses--and then some</th>\n",
       "      <td>0.0</td>\n",
       "      <td>0.0</td>\n",
       "      <td>0.0</td>\n",
       "      <td>0.0</td>\n",
       "      <td>0.0</td>\n",
       "      <td>0.0</td>\n",
       "      <td>0.0</td>\n",
       "      <td>0.0</td>\n",
       "      <td>0.0</td>\n",
       "      <td>0.0</td>\n",
       "      <td>...</td>\n",
       "      <td>0.0</td>\n",
       "      <td>0.0</td>\n",
       "      <td>0.0</td>\n",
       "      <td>0.0</td>\n",
       "      <td>0.0</td>\n",
       "      <td>0.0</td>\n",
       "      <td>0.0</td>\n",
       "      <td>0.0</td>\n",
       "      <td>0.0</td>\n",
       "      <td>0.0</td>\n",
       "    </tr>\n",
       "    <tr>\n",
       "      <th>100% Chocolate</th>\n",
       "      <td>0.0</td>\n",
       "      <td>0.0</td>\n",
       "      <td>0.0</td>\n",
       "      <td>0.0</td>\n",
       "      <td>0.0</td>\n",
       "      <td>0.0</td>\n",
       "      <td>0.0</td>\n",
       "      <td>0.0</td>\n",
       "      <td>0.0</td>\n",
       "      <td>0.0</td>\n",
       "      <td>...</td>\n",
       "      <td>0.0</td>\n",
       "      <td>0.0</td>\n",
       "      <td>0.0</td>\n",
       "      <td>0.0</td>\n",
       "      <td>0.0</td>\n",
       "      <td>0.0</td>\n",
       "      <td>0.0</td>\n",
       "      <td>0.0</td>\n",
       "      <td>0.0</td>\n",
       "      <td>0.0</td>\n",
       "    </tr>\n",
       "    <tr>\n",
       "      <th>101 Best Cheers: How to Be the Best Cheerleader Ever</th>\n",
       "      <td>0.0</td>\n",
       "      <td>0.0</td>\n",
       "      <td>0.0</td>\n",
       "      <td>0.0</td>\n",
       "      <td>0.0</td>\n",
       "      <td>0.0</td>\n",
       "      <td>0.0</td>\n",
       "      <td>0.0</td>\n",
       "      <td>0.0</td>\n",
       "      <td>0.0</td>\n",
       "      <td>...</td>\n",
       "      <td>0.0</td>\n",
       "      <td>0.0</td>\n",
       "      <td>0.0</td>\n",
       "      <td>0.0</td>\n",
       "      <td>0.0</td>\n",
       "      <td>0.0</td>\n",
       "      <td>0.0</td>\n",
       "      <td>0.0</td>\n",
       "      <td>0.0</td>\n",
       "      <td>0.0</td>\n",
       "    </tr>\n",
       "    <tr>\n",
       "      <th>...</th>\n",
       "      <td>...</td>\n",
       "      <td>...</td>\n",
       "      <td>...</td>\n",
       "      <td>...</td>\n",
       "      <td>...</td>\n",
       "      <td>...</td>\n",
       "      <td>...</td>\n",
       "      <td>...</td>\n",
       "      <td>...</td>\n",
       "      <td>...</td>\n",
       "      <td>...</td>\n",
       "      <td>...</td>\n",
       "      <td>...</td>\n",
       "      <td>...</td>\n",
       "      <td>...</td>\n",
       "      <td>...</td>\n",
       "      <td>...</td>\n",
       "      <td>...</td>\n",
       "      <td>...</td>\n",
       "      <td>...</td>\n",
       "      <td>...</td>\n",
       "    </tr>\n",
       "    <tr>\n",
       "      <th>Your Wicked Ways</th>\n",
       "      <td>0.0</td>\n",
       "      <td>0.0</td>\n",
       "      <td>0.0</td>\n",
       "      <td>0.0</td>\n",
       "      <td>0.0</td>\n",
       "      <td>0.0</td>\n",
       "      <td>0.0</td>\n",
       "      <td>0.0</td>\n",
       "      <td>0.0</td>\n",
       "      <td>0.0</td>\n",
       "      <td>...</td>\n",
       "      <td>0.0</td>\n",
       "      <td>0.0</td>\n",
       "      <td>0.0</td>\n",
       "      <td>0.0</td>\n",
       "      <td>0.0</td>\n",
       "      <td>0.0</td>\n",
       "      <td>0.0</td>\n",
       "      <td>0.0</td>\n",
       "      <td>0.0</td>\n",
       "      <td>0.0</td>\n",
       "    </tr>\n",
       "    <tr>\n",
       "      <th>Yours Forever (Christy Miller)</th>\n",
       "      <td>0.0</td>\n",
       "      <td>0.0</td>\n",
       "      <td>0.0</td>\n",
       "      <td>0.0</td>\n",
       "      <td>0.0</td>\n",
       "      <td>0.0</td>\n",
       "      <td>0.0</td>\n",
       "      <td>0.0</td>\n",
       "      <td>0.0</td>\n",
       "      <td>0.0</td>\n",
       "      <td>...</td>\n",
       "      <td>0.0</td>\n",
       "      <td>0.0</td>\n",
       "      <td>0.0</td>\n",
       "      <td>0.0</td>\n",
       "      <td>0.0</td>\n",
       "      <td>0.0</td>\n",
       "      <td>0.0</td>\n",
       "      <td>0.0</td>\n",
       "      <td>0.0</td>\n",
       "      <td>0.0</td>\n",
       "    </tr>\n",
       "    <tr>\n",
       "      <th>Yukon Ho!</th>\n",
       "      <td>0.0</td>\n",
       "      <td>0.0</td>\n",
       "      <td>0.0</td>\n",
       "      <td>0.0</td>\n",
       "      <td>0.0</td>\n",
       "      <td>0.0</td>\n",
       "      <td>0.0</td>\n",
       "      <td>0.0</td>\n",
       "      <td>0.0</td>\n",
       "      <td>0.0</td>\n",
       "      <td>...</td>\n",
       "      <td>0.0</td>\n",
       "      <td>0.0</td>\n",
       "      <td>0.0</td>\n",
       "      <td>0.0</td>\n",
       "      <td>0.0</td>\n",
       "      <td>0.0</td>\n",
       "      <td>0.0</td>\n",
       "      <td>0.0</td>\n",
       "      <td>0.0</td>\n",
       "      <td>0.0</td>\n",
       "    </tr>\n",
       "    <tr>\n",
       "      <th>Zero Sldr Bkfr: Flw</th>\n",
       "      <td>0.0</td>\n",
       "      <td>0.0</td>\n",
       "      <td>0.0</td>\n",
       "      <td>0.0</td>\n",
       "      <td>0.0</td>\n",
       "      <td>0.0</td>\n",
       "      <td>0.0</td>\n",
       "      <td>0.0</td>\n",
       "      <td>0.0</td>\n",
       "      <td>0.0</td>\n",
       "      <td>...</td>\n",
       "      <td>0.0</td>\n",
       "      <td>0.0</td>\n",
       "      <td>0.0</td>\n",
       "      <td>0.0</td>\n",
       "      <td>0.0</td>\n",
       "      <td>0.0</td>\n",
       "      <td>0.0</td>\n",
       "      <td>0.0</td>\n",
       "      <td>0.0</td>\n",
       "      <td>0.0</td>\n",
       "    </tr>\n",
       "    <tr>\n",
       "      <th>\\And So It Goes\\\": Adventures in Television/10113\"</th>\n",
       "      <td>0.0</td>\n",
       "      <td>0.0</td>\n",
       "      <td>0.0</td>\n",
       "      <td>0.0</td>\n",
       "      <td>0.0</td>\n",
       "      <td>0.0</td>\n",
       "      <td>0.0</td>\n",
       "      <td>0.0</td>\n",
       "      <td>0.0</td>\n",
       "      <td>0.0</td>\n",
       "      <td>...</td>\n",
       "      <td>0.0</td>\n",
       "      <td>0.0</td>\n",
       "      <td>0.0</td>\n",
       "      <td>0.0</td>\n",
       "      <td>0.0</td>\n",
       "      <td>0.0</td>\n",
       "      <td>0.0</td>\n",
       "      <td>0.0</td>\n",
       "      <td>0.0</td>\n",
       "      <td>0.0</td>\n",
       "    </tr>\n",
       "  </tbody>\n",
       "</table>\n",
       "<p>1804 rows × 247 columns</p>\n",
       "</div>"
      ],
      "text/plain": [
       "User-ID                                             69     73     237    \\\n",
       "Book-Title                                                                \n",
       " It Takes Two                                         0.0    0.0    0.0   \n",
       " Mystery Mile                                         0.0    0.0    0.0   \n",
       "100 greatest golf courses--and then some              0.0    0.0    0.0   \n",
       "100% Chocolate                                        0.0    0.0    0.0   \n",
       "101 Best Cheers: How to Be the Best Cheerleader...    0.0    0.0    0.0   \n",
       "...                                                   ...    ...    ...   \n",
       "Your Wicked Ways                                      0.0    0.0    0.0   \n",
       "Yours Forever (Christy Miller)                        0.0    0.0    0.0   \n",
       "Yukon Ho!                                             0.0    0.0    0.0   \n",
       "Zero Sldr Bkfr: Flw                                   0.0    0.0    0.0   \n",
       "\\And So It Goes\\\": Adventures in Television/10113\"    0.0    0.0    0.0   \n",
       "\n",
       "User-ID                                             361    424    439    \\\n",
       "Book-Title                                                                \n",
       " It Takes Two                                         0.0    0.0    0.0   \n",
       " Mystery Mile                                         0.0    0.0    0.0   \n",
       "100 greatest golf courses--and then some              0.0    0.0    0.0   \n",
       "100% Chocolate                                        0.0    0.0    0.0   \n",
       "101 Best Cheers: How to Be the Best Cheerleader...    0.0    0.0    0.0   \n",
       "...                                                   ...    ...    ...   \n",
       "Your Wicked Ways                                      0.0    0.0    0.0   \n",
       "Yours Forever (Christy Miller)                        0.0    0.0    0.0   \n",
       "Yukon Ho!                                             0.0    0.0    0.0   \n",
       "Zero Sldr Bkfr: Flw                                   0.0    0.0    0.0   \n",
       "\\And So It Goes\\\": Adventures in Television/10113\"    0.0    0.0    0.0   \n",
       "\n",
       "User-ID                                             463    505    595    \\\n",
       "Book-Title                                                                \n",
       " It Takes Two                                         0.0    0.0    0.0   \n",
       " Mystery Mile                                         0.0    0.0    0.0   \n",
       "100 greatest golf courses--and then some              0.0    0.0    0.0   \n",
       "100% Chocolate                                        0.0    0.0    0.0   \n",
       "101 Best Cheers: How to Be the Best Cheerleader...    0.0    0.0    0.0   \n",
       "...                                                   ...    ...    ...   \n",
       "Your Wicked Ways                                      0.0    0.0    0.0   \n",
       "Yours Forever (Christy Miller)                        0.0    0.0    0.0   \n",
       "Yukon Ho!                                             0.0    0.0    0.0   \n",
       "Zero Sldr Bkfr: Flw                                   0.0    0.0    0.0   \n",
       "\\And So It Goes\\\": Adventures in Television/10113\"    0.0    0.0    0.0   \n",
       "\n",
       "User-ID                                             685    ...  30351  30507  \\\n",
       "Book-Title                                                 ...                 \n",
       " It Takes Two                                         0.0  ...    0.0    0.0   \n",
       " Mystery Mile                                         0.0  ...    0.0    0.0   \n",
       "100 greatest golf courses--and then some              0.0  ...    0.0    0.0   \n",
       "100% Chocolate                                        0.0  ...    0.0    0.0   \n",
       "101 Best Cheers: How to Be the Best Cheerleader...    0.0  ...    0.0    0.0   \n",
       "...                                                   ...  ...    ...    ...   \n",
       "Your Wicked Ways                                      0.0  ...    0.0    0.0   \n",
       "Yours Forever (Christy Miller)                        0.0  ...    0.0    0.0   \n",
       "Yukon Ho!                                             0.0  ...    0.0    0.0   \n",
       "Zero Sldr Bkfr: Flw                                   0.0  ...    0.0    0.0   \n",
       "\\And So It Goes\\\": Adventures in Television/10113\"    0.0  ...    0.0    0.0   \n",
       "\n",
       "User-ID                                             30598  31005  31044  \\\n",
       "Book-Title                                                                \n",
       " It Takes Two                                         0.0    0.0    0.0   \n",
       " Mystery Mile                                         0.0    0.0    0.0   \n",
       "100 greatest golf courses--and then some              0.0    0.0    0.0   \n",
       "100% Chocolate                                        0.0    0.0    0.0   \n",
       "101 Best Cheers: How to Be the Best Cheerleader...    0.0    0.0    0.0   \n",
       "...                                                   ...    ...    ...   \n",
       "Your Wicked Ways                                      0.0    0.0    0.0   \n",
       "Yours Forever (Christy Miller)                        0.0    0.0    0.0   \n",
       "Yukon Ho!                                             0.0    0.0    0.0   \n",
       "Zero Sldr Bkfr: Flw                                   0.0    0.0    0.0   \n",
       "\\And So It Goes\\\": Adventures in Television/10113\"    0.0    0.0    0.0   \n",
       "\n",
       "User-ID                                             31070  31410  31568  \\\n",
       "Book-Title                                                                \n",
       " It Takes Two                                         0.0    0.0    0.0   \n",
       " Mystery Mile                                         0.0    0.0    0.0   \n",
       "100 greatest golf courses--and then some              0.0    0.0    0.0   \n",
       "100% Chocolate                                        0.0    0.0    0.0   \n",
       "101 Best Cheers: How to Be the Best Cheerleader...    0.0    0.0    0.0   \n",
       "...                                                   ...    ...    ...   \n",
       "Your Wicked Ways                                      0.0    0.0    0.0   \n",
       "Yours Forever (Christy Miller)                        0.0    0.0    0.0   \n",
       "Yukon Ho!                                             0.0    0.0    0.0   \n",
       "Zero Sldr Bkfr: Flw                                   0.0    0.0    0.0   \n",
       "\\And So It Goes\\\": Adventures in Television/10113\"    0.0    0.0    0.0   \n",
       "\n",
       "User-ID                                             32110  32182  \n",
       "Book-Title                                                        \n",
       " It Takes Two                                         0.0    0.0  \n",
       " Mystery Mile                                         0.0    0.0  \n",
       "100 greatest golf courses--and then some              0.0    0.0  \n",
       "100% Chocolate                                        0.0    0.0  \n",
       "101 Best Cheers: How to Be the Best Cheerleader...    0.0    0.0  \n",
       "...                                                   ...    ...  \n",
       "Your Wicked Ways                                      0.0    0.0  \n",
       "Yours Forever (Christy Miller)                        0.0    0.0  \n",
       "Yukon Ho!                                             0.0    0.0  \n",
       "Zero Sldr Bkfr: Flw                                   0.0    0.0  \n",
       "\\And So It Goes\\\": Adventures in Television/10113\"    0.0    0.0  \n",
       "\n",
       "[1804 rows x 247 columns]"
      ]
     },
     "execution_count": 225,
     "metadata": {},
     "output_type": "execute_result"
    }
   ],
   "source": [
    "pt"
   ]
  },
  {
   "cell_type": "code",
   "execution_count": 240,
   "id": "aa780867-239d-4cf9-b205-a13f5008a4bc",
   "metadata": {},
   "outputs": [
    {
     "data": {
      "text/plain": [
       "True"
      ]
     },
     "execution_count": 240,
     "metadata": {},
     "output_type": "execute_result"
    }
   ],
   "source": []
  },
  {
   "cell_type": "code",
   "execution_count": 239,
   "id": "3b22212b-a863-422a-b16a-58497ac236ff",
   "metadata": {},
   "outputs": [
    {
     "data": {
      "text/plain": [
       "Index([' It Takes Two', ' Mystery Mile',\n",
       "       '100 greatest golf courses--and then some', '100% Chocolate',\n",
       "       '101 Best Cheers: How to Be the Best Cheerleader Ever',\n",
       "       '1999 Writer's Market (Annual)',\n",
       "       '20,000 Leagues Under the Sea (Wordsworth Collection)',\n",
       "       '52 Deck Series: 52 Ways to Celebrate Friendship',\n",
       "       '69 Things to Do with a Dead Princess',\n",
       "       '77 Ways to Beat Colds and Flu: A People's Medical Society Book',\n",
       "       ...\n",
       "       'X/1999-Duet   (Book 6)',\n",
       "       'Yin for Change: Awakening Imagination for More Life in Your Living',\n",
       "       'You Have To Kiss A Lot Of Frogs',\n",
       "       'You can't have your kayak and heat it;: Stories from My word!',\n",
       "       'Your Erroneous Zones', 'Your Wicked Ways',\n",
       "       'Yours Forever (Christy Miller)', 'Yukon Ho!', 'Zero Sldr Bkfr: Flw',\n",
       "       '\\And So It Goes\\\": Adventures in Television/10113\"'],\n",
       "      dtype='object', name='Book-Title', length=1804)"
      ]
     },
     "execution_count": 239,
     "metadata": {},
     "output_type": "execute_result"
    }
   ],
   "source": [
    "pt.index"
   ]
  },
  {
   "cell_type": "code",
   "execution_count": 226,
   "id": "dab92cbf-c107-43a8-9a9e-f67c5261be43",
   "metadata": {},
   "outputs": [],
   "source": [
    "# Finding the cosine similarity of the each every book"
   ]
  },
  {
   "cell_type": "code",
   "execution_count": 228,
   "id": "7861886c-98eb-4d9b-86b3-592477cf840c",
   "metadata": {},
   "outputs": [],
   "source": [
    "from sklearn.metrics.pairwise import cosine_similarity\n",
    "similarity_scores = cosine_similarity(pt)"
   ]
  },
  {
   "cell_type": "code",
   "execution_count": 230,
   "id": "ac5464e7-d374-4578-9f29-53e7397540e7",
   "metadata": {},
   "outputs": [
    {
     "data": {
      "text/plain": [
       "(1804, 1804)"
      ]
     },
     "execution_count": 230,
     "metadata": {},
     "output_type": "execute_result"
    }
   ],
   "source": [
    "similarity_scores.shape"
   ]
  },
  {
   "cell_type": "code",
   "execution_count": 231,
   "id": "434dc4fc-40ac-4cf6-a62c-677c1e21e2ca",
   "metadata": {},
   "outputs": [
    {
     "data": {
      "text/plain": [
       "array([[0., 0., 0., ..., 0., 0., 0.],\n",
       "       [0., 0., 0., ..., 0., 0., 0.],\n",
       "       [0., 0., 0., ..., 0., 0., 0.],\n",
       "       ...,\n",
       "       [0., 0., 0., ..., 1., 0., 0.],\n",
       "       [0., 0., 0., ..., 0., 1., 0.],\n",
       "       [0., 0., 0., ..., 0., 0., 0.]])"
      ]
     },
     "execution_count": 231,
     "metadata": {},
     "output_type": "execute_result"
    }
   ],
   "source": [
    "similarity_scores"
   ]
  },
  {
   "cell_type": "code",
   "execution_count": 242,
   "id": "98e5a106-3d94-47a8-b10a-6f6caabc3c56",
   "metadata": {},
   "outputs": [
    {
     "data": {
      "text/plain": [
       "' It Takes Two'"
      ]
     },
     "execution_count": 242,
     "metadata": {},
     "output_type": "execute_result"
    }
   ],
   "source": [
    "# Get the close match for based on book title\n",
    "import difflib\n",
    "def close_match(book_name):\n",
    "    return difflib.get_close_matches(book_name,pt.index.tolist())[0]\n",
    "close_match(\"It Takes Two\")"
   ]
  },
  {
   "cell_type": "code",
   "execution_count": 246,
   "id": "cb01d848-46a4-4fc7-8114-86c8a93754cf",
   "metadata": {},
   "outputs": [],
   "source": [
    "import numpy as np\n",
    "\n",
    "def recommend(book_title, pt, similarity_scores):\n",
    "    book_title = close_match(book_title)\n",
    "    if book_title not in pt.index:\n",
    "        return \"Book not found in dataset!\"\n",
    "    \n",
    "    # Step 1: Find the index of the book\n",
    "    book_index = pt.index.get_loc(book_title)\n",
    "\n",
    "    # Step 2: Retrieve similarity scores for the book\n",
    "    scores = similarity_scores[book_index]\n",
    "\n",
    "    # Step 3: Get top 5 most similar books (excluding itself)\n",
    "    top_indexes = np.argsort(scores)[-6:-1][::-1]  # Sort and exclude itself\n",
    "\n",
    "    # Step 4: Return book titles\n",
    "    recomed_books = pt.index[top_indexes].tolist()\n",
    "    book_details = []\n",
    "    for i,book_title in enumerate(recomed_books):\n",
    "        print(i,\".\"+ book_title)\n"
   ]
  },
  {
   "cell_type": "code",
   "execution_count": 245,
   "id": "39eaedb1-db21-44fd-8f12-b77919326cdd",
   "metadata": {},
   "outputs": [
    {
     "name": "stdin",
     "output_type": "stream",
     "text": [
      "Enter the book name It Takes Two\n"
     ]
    },
    {
     "name": "stdout",
     "output_type": "stream",
     "text": [
      "Top 5 Recommended Books:\n",
      "0 .Hard Laughter\n",
      "1 .Home Sweeter Home: Creating a Haven of Simplicity and Spirit (Mitchell, Jann. Sweet Simplicity, 1st Bk.)\n",
      "2 .Home Truths: A Novella\n",
      "3 .Homeschoolers' Success Stories : 15 Adults and 12 Young People Share the Impact That Homeschooling Has Made on Their Lives\n",
      "4 .Homeschooling: The Teen Years : Your Complete Guide to Successfully Homeschooling the 13- To 18-Year Old (Prima Home Learning Library)\n"
     ]
    }
   ],
   "source": [
    "book_name = input(\"Enter the book name\")\n",
    "print(\"Top 5 Recommended Books:\")\n",
    "recommend(book_name, pt, similarity_scores)"
   ]
  },
  {
   "cell_type": "code",
   "execution_count": null,
   "id": "028dc7e5-3f33-45ab-b92a-719fbf493608",
   "metadata": {},
   "outputs": [],
   "source": []
  }
 ],
 "metadata": {
  "kernelspec": {
   "display_name": "Python 3 (ipykernel)",
   "language": "python",
   "name": "python3"
  },
  "language_info": {
   "codemirror_mode": {
    "name": "ipython",
    "version": 3
   },
   "file_extension": ".py",
   "mimetype": "text/x-python",
   "name": "python",
   "nbconvert_exporter": "python",
   "pygments_lexer": "ipython3",
   "version": "3.11.7"
  }
 },
 "nbformat": 4,
 "nbformat_minor": 5
}
