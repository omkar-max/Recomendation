{
 "cells": [
  {
   "cell_type": "code",
   "execution_count": 2,
   "id": "2e135763-7509-4d7b-a59e-5ecdbd9adb07",
   "metadata": {},
   "outputs": [],
   "source": [
    "import numpy as np\n",
    "import pandas as pd"
   ]
  },
  {
   "cell_type": "markdown",
   "id": "ba89b823-3ec1-4fd2-8e19-d2e917903810",
   "metadata": {},
   "source": [
    "Steps involved:\n",
    "--------------\n",
    "Store movies with their genres.\n",
    "\n",
    "Vectorize the genres using TF-IDF.\n",
    "\n",
    "Find the genres of the user’s input movie.\n",
    "\n",
    "Compute similarity scores with other movies.\n",
    "\n",
    "Recommend the most similar movies."
   ]
  },
  {
   "cell_type": "code",
   "execution_count": 12,
   "id": "f61c1727-2624-4c59-975c-992e37e444e7",
   "metadata": {},
   "outputs": [],
   "source": [
    "df = pd.read_csv(r\"C:\\Users\\omkar\\OneDrive\\Desktop\\Datasets\\movies.csv\")"
   ]
  },
  {
   "cell_type": "code",
   "execution_count": 13,
   "id": "c337315e-5b5d-4635-a53b-4832add47f47",
   "metadata": {},
   "outputs": [
    {
     "data": {
      "text/html": [
       "<div>\n",
       "<style scoped>\n",
       "    .dataframe tbody tr th:only-of-type {\n",
       "        vertical-align: middle;\n",
       "    }\n",
       "\n",
       "    .dataframe tbody tr th {\n",
       "        vertical-align: top;\n",
       "    }\n",
       "\n",
       "    .dataframe thead th {\n",
       "        text-align: right;\n",
       "    }\n",
       "</style>\n",
       "<table border=\"1\" class=\"dataframe\">\n",
       "  <thead>\n",
       "    <tr style=\"text-align: right;\">\n",
       "      <th></th>\n",
       "      <th>index</th>\n",
       "      <th>genres</th>\n",
       "      <th>title</th>\n",
       "    </tr>\n",
       "  </thead>\n",
       "  <tbody>\n",
       "    <tr>\n",
       "      <th>0</th>\n",
       "      <td>0</td>\n",
       "      <td>Action Adventure Fantasy Science Fiction</td>\n",
       "      <td>Avatar</td>\n",
       "    </tr>\n",
       "    <tr>\n",
       "      <th>1</th>\n",
       "      <td>1</td>\n",
       "      <td>Adventure Fantasy Action</td>\n",
       "      <td>Pirates of the Caribbean: At World's End</td>\n",
       "    </tr>\n",
       "    <tr>\n",
       "      <th>2</th>\n",
       "      <td>2</td>\n",
       "      <td>Action Adventure Crime</td>\n",
       "      <td>Spectre</td>\n",
       "    </tr>\n",
       "    <tr>\n",
       "      <th>3</th>\n",
       "      <td>3</td>\n",
       "      <td>Action Crime Drama Thriller</td>\n",
       "      <td>The Dark Knight Rises</td>\n",
       "    </tr>\n",
       "    <tr>\n",
       "      <th>4</th>\n",
       "      <td>4</td>\n",
       "      <td>Action Adventure Science Fiction</td>\n",
       "      <td>John Carter</td>\n",
       "    </tr>\n",
       "  </tbody>\n",
       "</table>\n",
       "</div>"
      ],
      "text/plain": [
       "   index                                    genres  \\\n",
       "0      0  Action Adventure Fantasy Science Fiction   \n",
       "1      1                  Adventure Fantasy Action   \n",
       "2      2                    Action Adventure Crime   \n",
       "3      3               Action Crime Drama Thriller   \n",
       "4      4          Action Adventure Science Fiction   \n",
       "\n",
       "                                      title  \n",
       "0                                    Avatar  \n",
       "1  Pirates of the Caribbean: At World's End  \n",
       "2                                   Spectre  \n",
       "3                     The Dark Knight Rises  \n",
       "4                               John Carter  "
      ]
     },
     "execution_count": 13,
     "metadata": {},
     "output_type": "execute_result"
    }
   ],
   "source": [
    "df.head()"
   ]
  },
  {
   "cell_type": "code",
   "execution_count": 14,
   "id": "2d591404-3a81-4252-977f-3d7e3da13369",
   "metadata": {},
   "outputs": [
    {
     "data": {
      "text/plain": [
       "genres\n",
       "Drama                                              362\n",
       "Comedy                                             282\n",
       "Drama Romance                                      163\n",
       "Comedy Drama                                       141\n",
       "Comedy Romance                                     141\n",
       "                                                  ... \n",
       "Action Adventure War History                         1\n",
       "Drama Romance Fantasy                                1\n",
       "Comedy Action Adventure Fantasy Science Fiction      1\n",
       "Action Adventure Family                              1\n",
       "Comedy Drama Romance TV Movie                        1\n",
       "Name: count, Length: 1137, dtype: int64"
      ]
     },
     "execution_count": 14,
     "metadata": {},
     "output_type": "execute_result"
    }
   ],
   "source": [
    "df['genres'].value_counts()"
   ]
  },
  {
   "cell_type": "code",
   "execution_count": 6,
   "id": "189ae269-aea7-4852-8ab7-1ed2338a5870",
   "metadata": {},
   "outputs": [
    {
     "data": {
      "text/plain": [
       "(4693, 3)"
      ]
     },
     "execution_count": 6,
     "metadata": {},
     "output_type": "execute_result"
    }
   ],
   "source": [
    "df.shape"
   ]
  },
  {
   "cell_type": "code",
   "execution_count": 15,
   "id": "413be588-1f1e-4c78-b623-ccb78ea4eefd",
   "metadata": {},
   "outputs": [
    {
     "data": {
      "text/plain": [
       "index      0\n",
       "genres    27\n",
       "title      0\n",
       "dtype: int64"
      ]
     },
     "execution_count": 15,
     "metadata": {},
     "output_type": "execute_result"
    }
   ],
   "source": [
    "df.isnull().sum()"
   ]
  },
  {
   "cell_type": "code",
   "execution_count": 16,
   "id": "84d4c49c-dd3e-4ebe-ad01-23d04636d463",
   "metadata": {},
   "outputs": [
    {
     "name": "stderr",
     "output_type": "stream",
     "text": [
      "C:\\Users\\omkar\\AppData\\Local\\Temp\\ipykernel_29452\\991016120.py:1: FutureWarning: A value is trying to be set on a copy of a DataFrame or Series through chained assignment using an inplace method.\n",
      "The behavior will change in pandas 3.0. This inplace method will never work because the intermediate object on which we are setting values always behaves as a copy.\n",
      "\n",
      "For example, when doing 'df[col].method(value, inplace=True)', try using 'df.method({col: value}, inplace=True)' or df[col] = df[col].method(value) instead, to perform the operation inplace on the original object.\n",
      "\n",
      "\n",
      "  df['genres'].fillna(' ',inplace=True)\n"
     ]
    }
   ],
   "source": [
    "df['genres'].fillna(' ',inplace=True)"
   ]
  },
  {
   "cell_type": "code",
   "execution_count": 9,
   "id": "694b5b04-046e-489d-8dfe-4e3522ee8615",
   "metadata": {},
   "outputs": [],
   "source": [
    "# from sklearn.feature_extraction.text import TfidfVectorizer\n",
    "# from sklearn.metrics.pairwise import cosine_similarity\n",
    "# import pandas as pd\n",
    "\n",
    "# # Sample movie dataset\n",
    "# movies = {\n",
    "#     \"title\": [\n",
    "#         \"The Dark Knight\", \"Inception\", \"The Godfather\", \n",
    "#         \"Interstellar\", \"The Avengers\", \"Joker\"\n",
    "#     ],\n",
    "#     \"genres\": [\n",
    "#         \"Action Crime Drama\", \"Action Adventure Sci-Fi\", \n",
    "#         \"Crime Drama\", \"Adventure Drama Sci-Fi\", \n",
    "#         \"Action Adventure Sci-Fi\", \"Crime Drama Thriller\"\n",
    "#     ]\n",
    "# }\n",
    "\n",
    "# # Convert to DataFrame\n",
    "# df = pd.DataFrame(movies)\n",
    "\n",
    "# # Initialize TF-IDF Vectorizer\n",
    "# vectorizer = TfidfVectorizer()\n",
    "# tfidf_matrix = vectorizer.fit_transform(df[\"genres\"])\n",
    "\n",
    "# # Function to recommend movies based on a given movie title\n",
    "# def recommend_movies_by_title(movie_title, top_n=3):\n",
    "#     # Find the index of the movie\n",
    "#     if movie_title not in df[\"title\"].values:\n",
    "#         return [\"Movie not found in the dataset.\"]\n",
    "    \n",
    "#     movie_index = df[df[\"title\"] == movie_title].index[0]\n",
    "    \n",
    "#     # Compute similarity scores with all movies\n",
    "#     similarity_scores = cosine_similarity(tfidf_matrix)\n",
    "    \n",
    "#     # Get indices of top N similar movies (excluding itself)\n",
    "#     # top_indices = similarity_scores.argsort()[0][-top_n-1:-1][::-1]\n",
    "#     similarity = list(enumerate(similarity_scores[movie_index]))\n",
    "    \n",
    "#     similarity_score = sorted(similarity,key = lambda x:x[1],reverse=True)\n",
    "#     # Get recommended movie titles\n",
    "#     # recommendations = df.iloc[top_indices][\"title\"].tolist()\n",
    "#     print(similarity_score)\n",
    "#     i=1\n",
    "#     for movie in similarity_score:\n",
    "#         index = movie[0]\n",
    "#         title = df[df.index==index]['title'].values[0]\n",
    "#         print(title)\n",
    "        \n",
    "#     # return recommendations\n",
    "\n",
    "# # Example: User inputs a movie title\n",
    "# user_movie = \"Inception\"\n",
    "# recommended_movies = recommend_movies_by_title(user_movie, top_n=3)\n",
    "\n",
    "# print(f\"Movies similar to '{user_movie}':\", recommended_movies)\n"
   ]
  },
  {
   "cell_type": "code",
   "execution_count": 17,
   "id": "80d95065-1992-4425-9759-d1fff0c870b6",
   "metadata": {},
   "outputs": [
    {
     "data": {
      "text/html": [
       "<div>\n",
       "<style scoped>\n",
       "    .dataframe tbody tr th:only-of-type {\n",
       "        vertical-align: middle;\n",
       "    }\n",
       "\n",
       "    .dataframe tbody tr th {\n",
       "        vertical-align: top;\n",
       "    }\n",
       "\n",
       "    .dataframe thead th {\n",
       "        text-align: right;\n",
       "    }\n",
       "</style>\n",
       "<table border=\"1\" class=\"dataframe\">\n",
       "  <thead>\n",
       "    <tr style=\"text-align: right;\">\n",
       "      <th></th>\n",
       "      <th>index</th>\n",
       "      <th>genres</th>\n",
       "      <th>title</th>\n",
       "    </tr>\n",
       "  </thead>\n",
       "  <tbody>\n",
       "    <tr>\n",
       "      <th>0</th>\n",
       "      <td>0</td>\n",
       "      <td>Action Adventure Fantasy Science Fiction</td>\n",
       "      <td>Avatar</td>\n",
       "    </tr>\n",
       "    <tr>\n",
       "      <th>1</th>\n",
       "      <td>1</td>\n",
       "      <td>Adventure Fantasy Action</td>\n",
       "      <td>Pirates of the Caribbean: At World's End</td>\n",
       "    </tr>\n",
       "    <tr>\n",
       "      <th>2</th>\n",
       "      <td>2</td>\n",
       "      <td>Action Adventure Crime</td>\n",
       "      <td>Spectre</td>\n",
       "    </tr>\n",
       "    <tr>\n",
       "      <th>3</th>\n",
       "      <td>3</td>\n",
       "      <td>Action Crime Drama Thriller</td>\n",
       "      <td>The Dark Knight Rises</td>\n",
       "    </tr>\n",
       "    <tr>\n",
       "      <th>4</th>\n",
       "      <td>4</td>\n",
       "      <td>Action Adventure Science Fiction</td>\n",
       "      <td>John Carter</td>\n",
       "    </tr>\n",
       "    <tr>\n",
       "      <th>...</th>\n",
       "      <td>...</td>\n",
       "      <td>...</td>\n",
       "      <td>...</td>\n",
       "    </tr>\n",
       "    <tr>\n",
       "      <th>4688</th>\n",
       "      <td>4688</td>\n",
       "      <td>Foreign Thriller</td>\n",
       "      <td>Cavite</td>\n",
       "    </tr>\n",
       "    <tr>\n",
       "      <th>4689</th>\n",
       "      <td>4689</td>\n",
       "      <td>Action Crime Thriller</td>\n",
       "      <td>El Mariachi</td>\n",
       "    </tr>\n",
       "    <tr>\n",
       "      <th>4690</th>\n",
       "      <td>4690</td>\n",
       "      <td>Comedy Romance</td>\n",
       "      <td>Newlyweds</td>\n",
       "    </tr>\n",
       "    <tr>\n",
       "      <th>4691</th>\n",
       "      <td>4691</td>\n",
       "      <td>Comedy Drama Romance TV Movie</td>\n",
       "      <td>Signed, Sealed, Delivered</td>\n",
       "    </tr>\n",
       "    <tr>\n",
       "      <th>4692</th>\n",
       "      <td>4692</td>\n",
       "      <td>Documentary</td>\n",
       "      <td>My Date with Drew</td>\n",
       "    </tr>\n",
       "  </tbody>\n",
       "</table>\n",
       "<p>4693 rows × 3 columns</p>\n",
       "</div>"
      ],
      "text/plain": [
       "      index                                    genres  \\\n",
       "0         0  Action Adventure Fantasy Science Fiction   \n",
       "1         1                  Adventure Fantasy Action   \n",
       "2         2                    Action Adventure Crime   \n",
       "3         3               Action Crime Drama Thriller   \n",
       "4         4          Action Adventure Science Fiction   \n",
       "...     ...                                       ...   \n",
       "4688   4688                          Foreign Thriller   \n",
       "4689   4689                     Action Crime Thriller   \n",
       "4690   4690                            Comedy Romance   \n",
       "4691   4691             Comedy Drama Romance TV Movie   \n",
       "4692   4692                               Documentary   \n",
       "\n",
       "                                         title  \n",
       "0                                       Avatar  \n",
       "1     Pirates of the Caribbean: At World's End  \n",
       "2                                      Spectre  \n",
       "3                        The Dark Knight Rises  \n",
       "4                                  John Carter  \n",
       "...                                        ...  \n",
       "4688                                    Cavite  \n",
       "4689                               El Mariachi  \n",
       "4690                                 Newlyweds  \n",
       "4691                 Signed, Sealed, Delivered  \n",
       "4692                         My Date with Drew  \n",
       "\n",
       "[4693 rows x 3 columns]"
      ]
     },
     "execution_count": 17,
     "metadata": {},
     "output_type": "execute_result"
    }
   ],
   "source": [
    "df"
   ]
  },
  {
   "cell_type": "code",
   "execution_count": null,
   "id": "e6f8d402-2978-44a0-bd42-68406831be84",
   "metadata": {},
   "outputs": [],
   "source": []
  },
  {
   "cell_type": "markdown",
   "id": "1a834cb3-7ba1-4023-8f9a-271450842a2c",
   "metadata": {},
   "source": [
    "### 1.Vectorize the genres using TF-IDF."
   ]
  },
  {
   "cell_type": "code",
   "execution_count": 18,
   "id": "74a21947-9798-4c60-8c21-1e1ba934a5c2",
   "metadata": {},
   "outputs": [],
   "source": [
    "from sklearn.feature_extraction.text import TfidfVectorizer\n",
    "vectorizer =  TfidfVectorizer()\n",
    "tfidf_matrix = vectorizer.fit_transform(df['genres'])"
   ]
  },
  {
   "cell_type": "code",
   "execution_count": 19,
   "id": "64ed8c46-81c5-4e59-94af-e00b3b8b29fa",
   "metadata": {},
   "outputs": [
    {
     "data": {
      "text/plain": [
       "<Compressed Sparse Row sparse matrix of dtype 'float64'\n",
       "\twith 12343 stored elements and shape (4693, 22)>"
      ]
     },
     "execution_count": 19,
     "metadata": {},
     "output_type": "execute_result"
    }
   ],
   "source": [
    "tfidf_matrix"
   ]
  },
  {
   "cell_type": "code",
   "execution_count": 20,
   "id": "f015d204-36d7-43dc-af81-8a29c79f10ec",
   "metadata": {},
   "outputs": [],
   "source": [
    "from sklearn.metrics.pairwise import cosine_similarity"
   ]
  },
  {
   "cell_type": "code",
   "execution_count": 21,
   "id": "a57f6ec7-b620-45bd-954f-7f3c65fe18f4",
   "metadata": {},
   "outputs": [],
   "source": [
    "# Get the close match for based on movie title\n",
    "import difflib\n",
    "def close_match(movie_name):\n",
    "    return difflib.get_close_matches(movie_name,df['title'].tolist())[0]"
   ]
  },
  {
   "cell_type": "code",
   "execution_count": 22,
   "id": "fd6a4cee-b113-4028-a24b-784ba67656a8",
   "metadata": {},
   "outputs": [],
   "source": [
    "# Search in movie first then finding the cosine similarity then sorting the scores and getting the top 10 movies from that by me.\n",
    "def recomend(movie):\n",
    "    movie_name = close_match(movie)\n",
    "    movie_index = df[df['title']==movie_name].index[0]\n",
    "    \n",
    "    similarity_scores = cosine_similarity(tfidf_matrix[movie_index],tfidf_matrix)\n",
    "    print(similarity_scores)\n",
    "    # To get top 10 indexes of similarity scores\n",
    "    # ex: [0.5,0.98,0.67,.0.78]\n",
    "    # [1,3,2,0]\n",
    "    # In similarity_scores [[all columns present in the rows]] so whatever the argsort() indexes are present in the rows also.\n",
    "    top_indexes = similarity_scores.argsort()[0][-11:-1][::-1]\n",
    "    return df.iloc[top_indexes]['title'].values.tolist()\n",
    "    \n"
   ]
  },
  {
   "cell_type": "code",
   "execution_count": 23,
   "id": "b7ca976c-272a-414c-b23b-14d473278672",
   "metadata": {},
   "outputs": [
    {
     "name": "stdin",
     "output_type": "stream",
     "text": [
      "Enter the movie name iron man\n"
     ]
    },
    {
     "name": "stdout",
     "output_type": "stream",
     "text": [
      "[[0.86185833 0.46585684 0.49903013 ... 0.         0.         0.        ]]\n"
     ]
    },
    {
     "data": {
      "text/plain": [
       "['Pacific Rim',\n",
       " 'Steel',\n",
       " 'The Empire Strikes Back',\n",
       " 'Iron Man',\n",
       " 'Star Trek Beyond',\n",
       " \"Ender's Game\",\n",
       " 'Superman IV: The Quest for Peace',\n",
       " 'Fantastic Four',\n",
       " 'Iron Man 3',\n",
       " 'Star Trek Into Darkness']"
      ]
     },
     "execution_count": 23,
     "metadata": {},
     "output_type": "execute_result"
    }
   ],
   "source": [
    "user_input = input(\"Enter the movie name\")\n",
    "recomend(user_input)"
   ]
  },
  {
   "cell_type": "markdown",
   "id": "a3e33710-ae25-4d4c-98e3-6c25a3794273",
   "metadata": {},
   "source": [
    "## 3.Compute similarity scores with other movies."
   ]
  },
  {
   "cell_type": "code",
   "execution_count": 24,
   "id": "d24446ab-a6d2-41e9-b5c1-a4878298666f",
   "metadata": {},
   "outputs": [
    {
     "data": {
      "text/plain": [
       "['Pacific Rim',\n",
       " 'Steel',\n",
       " 'The Empire Strikes Back',\n",
       " 'Iron Man',\n",
       " 'Star Trek Beyond',\n",
       " \"Ender's Game\",\n",
       " 'Superman IV: The Quest for Peace',\n",
       " 'Fantastic Four',\n",
       " 'Iron Man 3',\n",
       " 'Star Trek Into Darkness']"
      ]
     },
     "execution_count": 24,
     "metadata": {},
     "output_type": "execute_result"
    }
   ],
   "source": [
    "# This is one more way to do it\n",
    "user_input = \"Iron Man\"\n",
    "movie_index = df[df['title']==\"Iron Man\"].index[0]\n",
    "from sklearn.metrics.pairwise import cosine_similarity\n",
    "similarity_scores = cosine_similarity(tfidf_matrix[movie_index],tfidf_matrix)\n",
    "# print(similarity_scores.shape)\n",
    "# To get top 10 indexes of similarity scores\n",
    "top_indexes = similarity_scores.argsort()[0][-11:-1][::-1]\n",
    "df.iloc[top_indexes]['title'].values.tolist()"
   ]
  },
  {
   "cell_type": "code",
   "execution_count": null,
   "id": "ffa55270-372f-42a8-a9bb-b21885cdfd58",
   "metadata": {},
   "outputs": [],
   "source": []
  }
 ],
 "metadata": {
  "kernelspec": {
   "display_name": "Python 3 (ipykernel)",
   "language": "python",
   "name": "python3"
  },
  "language_info": {
   "codemirror_mode": {
    "name": "ipython",
    "version": 3
   },
   "file_extension": ".py",
   "mimetype": "text/x-python",
   "name": "python",
   "nbconvert_exporter": "python",
   "pygments_lexer": "ipython3",
   "version": "3.11.7"
  }
 },
 "nbformat": 4,
 "nbformat_minor": 5
}
